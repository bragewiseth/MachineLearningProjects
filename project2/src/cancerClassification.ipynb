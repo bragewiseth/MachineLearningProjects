{
 "cells": [
  {
   "cell_type": "markdown",
   "metadata": {},
   "source": [
    "# Cancer Classification"
   ]
  },
  {
   "cell_type": "code",
   "execution_count": 2,
   "metadata": {},
   "outputs": [
    {
     "name": "stdout",
     "output_type": "stream",
     "text": [
      "jax backend gpu\n"
     ]
    }
   ],
   "source": [
    "import jax.numpy as np\n",
    "import jax\n",
    "from matplotlib import pyplot as plt\n",
    "from jax.lib import xla_bridge\n",
    "import ADAMLL as ada\n",
    "from sklearn.datasets import load_breast_cancer\n",
    "from sklearn.model_selection import  train_test_split \n",
    "from sklearn.preprocessing import StandardScaler\n",
    "import seaborn as sns\n",
    "print(\"jax backend {}\".format(xla_bridge.get_backend().platform))\n",
    "\n",
    "key = jax.random.PRNGKey(2024)"
   ]
  },
  {
   "cell_type": "markdown",
   "metadata": {},
   "source": [
    "## Data"
   ]
  },
  {
   "cell_type": "code",
   "execution_count": 6,
   "metadata": {},
   "outputs": [],
   "source": [
    "cancer = load_breast_cancer()\n",
    "X_train, X_test, y_train, y_test = train_test_split(cancer.data,cancer.target,random_state=0)\n",
    "scaler = StandardScaler()\n",
    "X_train = scaler.fit_transform(X_train)\n",
    "X_test = scaler.transform(X_test)\n",
    "X_train = np.asarray(X_train)\n",
    "X_test = np.asarray(X_test)\n",
    "y_train = np.asarray(y_train)\n",
    "y_test = np.asarray(y_test)"
   ]
  },
  {
   "cell_type": "code",
   "execution_count": 38,
   "metadata": {},
   "outputs": [],
   "source": []
  },
  {
   "cell_type": "markdown",
   "metadata": {},
   "source": [
    "### ADAMLL is a local library for machine learning algorithms it contains activation functions, cost functions, and optimization algorithms from previous exercises."
   ]
  },
  {
   "cell_type": "code",
   "execution_count": 39,
   "metadata": {},
   "outputs": [],
   "source": [
    "import ADAMLL as ada\n",
    "\n",
    "\n"
   ]
  },
  {
   "cell_type": "code",
   "execution_count": 40,
   "metadata": {},
   "outputs": [],
   "source": [
    "\n",
    "\n"
   ]
  },
  {
   "cell_type": "markdown",
   "metadata": {},
   "source": [
    "#### test and compare with jax to verify the derivations, not used in the analysis"
   ]
  },
  {
   "cell_type": "code",
   "execution_count": 41,
   "metadata": {},
   "outputs": [],
   "source": []
  },
  {
   "cell_type": "markdown",
   "metadata": {},
   "source": [
    "## Running the Neural Network\n",
    "\n",
    "#### No hidden layer"
   ]
  },
  {
   "cell_type": "code",
   "execution_count": 42,
   "metadata": {},
   "outputs": [
    {
     "name": "stdout",
     "output_type": "stream",
     "text": [
      "1\n",
      "[{'b': Traced<ShapedArray(float32[1])>with<DynamicJaxprTrace(level=1/0)>, 'w': Traced<ShapedArray(float32[2,1])>with<DynamicJaxprTrace(level=1/0)>}]\n",
      "[Traced<ShapedArray(float32[4,2])>with<DynamicJaxprTrace(level=1/0)>]\n"
     ]
    },
    {
     "ename": "TypeError",
     "evalue": "dot_general requires contracting dimensions to have the same shape, got (1,) and (2,).",
     "output_type": "error",
     "traceback": [
      "\u001b[0;31m---------------------------------------------------------------------------\u001b[0m",
      "\u001b[0;31mTypeError\u001b[0m                                 Traceback (most recent call last)",
      "\u001b[1;32m/home/brage/FYS-STK3155/Projects/weekley_exsercises/week43-44/exercises43-44.ipynb Cell 11\u001b[0m line \u001b[0;36m5\n\u001b[1;32m      <a href='vscode-notebook-cell:/home/brage/FYS-STK3155/Projects/weekley_exsercises/week43-44/exercises43-44.ipynb#X13sZmlsZQ%3D%3D?line=0'>1</a>\u001b[0m sigmoid \u001b[39m=\u001b[39m ada\u001b[39m.\u001b[39mactivations\u001b[39m.\u001b[39msigmoid\n\u001b[1;32m      <a href='vscode-notebook-cell:/home/brage/FYS-STK3155/Projects/weekley_exsercises/week43-44/exercises43-44.ipynb#X13sZmlsZQ%3D%3D?line=2'>3</a>\u001b[0m sgd \u001b[39m=\u001b[39m NN(architecture\u001b[39m=\u001b[39m[[\u001b[39m2\u001b[39m,\u001b[39m1\u001b[39m],[ sigmoid ]], eta\u001b[39m=\u001b[39m\u001b[39m0.1\u001b[39m, epochs\u001b[39m=\u001b[39m\u001b[39m400\u001b[39m, tol\u001b[39m=\u001b[39m\u001b[39m0.001\u001b[39m, optimizer\u001b[39m=\u001b[39m\u001b[39m'\u001b[39m\u001b[39msgd\u001b[39m\u001b[39m'\u001b[39m, gamma\u001b[39m=\u001b[39m\u001b[39m0.9\u001b[39m,backwards\u001b[39m=\u001b[39msingle_layer_gradients)\n\u001b[0;32m----> <a href='vscode-notebook-cell:/home/brage/FYS-STK3155/Projects/weekley_exsercises/week43-44/exercises43-44.ipynb#X13sZmlsZQ%3D%3D?line=4'>5</a>\u001b[0m loss_or, params_or \u001b[39m=\u001b[39m sgd\u001b[39m.\u001b[39;49mfit(X_train, t_or_train, X_test, t_or_test, batch_size\u001b[39m=\u001b[39;49m\u001b[39m4\u001b[39;49m)\n\u001b[1;32m      <a href='vscode-notebook-cell:/home/brage/FYS-STK3155/Projects/weekley_exsercises/week43-44/exercises43-44.ipynb#X13sZmlsZQ%3D%3D?line=5'>6</a>\u001b[0m loss_and, params_and \u001b[39m=\u001b[39m sgd\u001b[39m.\u001b[39mfit(X_train, t_and_train, X_test, t_and_test, batch_size\u001b[39m=\u001b[39m\u001b[39m4\u001b[39m)\n\u001b[1;32m      <a href='vscode-notebook-cell:/home/brage/FYS-STK3155/Projects/weekley_exsercises/week43-44/exercises43-44.ipynb#X13sZmlsZQ%3D%3D?line=6'>7</a>\u001b[0m loss_xor, params_xor \u001b[39m=\u001b[39m sgd\u001b[39m.\u001b[39mfit(X_train, t_xor_train, X_test, t_xor_test, batch_size\u001b[39m=\u001b[39m\u001b[39m4\u001b[39m)\n",
      "\u001b[1;32m/home/brage/FYS-STK3155/Projects/weekley_exsercises/week43-44/exercises43-44.ipynb Cell 11\u001b[0m line \u001b[0;36m1\n\u001b[1;32m    <a href='vscode-notebook-cell:/home/brage/FYS-STK3155/Projects/weekley_exsercises/week43-44/exercises43-44.ipynb#X13sZmlsZQ%3D%3D?line=106'>107</a>\u001b[0m X_batch \u001b[39m=\u001b[39m X[random_index:random_index\u001b[39m+\u001b[39mbatch_size]\n\u001b[1;32m    <a href='vscode-notebook-cell:/home/brage/FYS-STK3155/Projects/weekley_exsercises/week43-44/exercises43-44.ipynb#X13sZmlsZQ%3D%3D?line=107'>108</a>\u001b[0m t_batch \u001b[39m=\u001b[39m t[random_index:random_index\u001b[39m+\u001b[39mbatch_size]\n\u001b[0;32m--> <a href='vscode-notebook-cell:/home/brage/FYS-STK3155/Projects/weekley_exsercises/week43-44/exercises43-44.ipynb#X13sZmlsZQ%3D%3D?line=109'>110</a>\u001b[0m params, opt_state \u001b[39m=\u001b[39m step(params, opt_state, X_batch, t_batch)\n\u001b[1;32m    <a href='vscode-notebook-cell:/home/brage/FYS-STK3155/Projects/weekley_exsercises/week43-44/exercises43-44.ipynb#X13sZmlsZQ%3D%3D?line=111'>112</a>\u001b[0m current_loss \u001b[39m=\u001b[39m ada\u001b[39m.\u001b[39mCE(forward_propagate(params, X_val)[\u001b[39m-\u001b[39m\u001b[39m1\u001b[39m], t_val)\n\u001b[1;32m    <a href='vscode-notebook-cell:/home/brage/FYS-STK3155/Projects/weekley_exsercises/week43-44/exercises43-44.ipynb#X13sZmlsZQ%3D%3D?line=113'>114</a>\u001b[0m \u001b[39m# clip gradients\u001b[39;00m\n",
      "    \u001b[0;31m[... skipping hidden 12 frame]\u001b[0m\n",
      "\u001b[1;32m/home/brage/FYS-STK3155/Projects/weekley_exsercises/week43-44/exercises43-44.ipynb Cell 11\u001b[0m line \u001b[0;36m9\n\u001b[1;32m     <a href='vscode-notebook-cell:/home/brage/FYS-STK3155/Projects/weekley_exsercises/week43-44/exercises43-44.ipynb#X13sZmlsZQ%3D%3D?line=93'>94</a>\u001b[0m \u001b[39m@jax\u001b[39m\u001b[39m.\u001b[39mjit \u001b[39m# one step of gradient descent jitted to make it zoom\u001b[39;00m\n\u001b[1;32m     <a href='vscode-notebook-cell:/home/brage/FYS-STK3155/Projects/weekley_exsercises/week43-44/exercises43-44.ipynb#X13sZmlsZQ%3D%3D?line=94'>95</a>\u001b[0m \u001b[39mdef\u001b[39;00m \u001b[39mstep\u001b[39m(params, opt_state, X, t):\n\u001b[0;32m---> <a href='vscode-notebook-cell:/home/brage/FYS-STK3155/Projects/weekley_exsercises/week43-44/exercises43-44.ipynb#X13sZmlsZQ%3D%3D?line=95'>96</a>\u001b[0m     activations \u001b[39m=\u001b[39m \u001b[39mself\u001b[39;49m\u001b[39m.\u001b[39;49mforward(params, X)\n\u001b[1;32m     <a href='vscode-notebook-cell:/home/brage/FYS-STK3155/Projects/weekley_exsercises/week43-44/exercises43-44.ipynb#X13sZmlsZQ%3D%3D?line=96'>97</a>\u001b[0m     grads \u001b[39m=\u001b[39m \u001b[39mself\u001b[39m\u001b[39m.\u001b[39mbackwards(params, t, activations)\n\u001b[1;32m     <a href='vscode-notebook-cell:/home/brage/FYS-STK3155/Projects/weekley_exsercises/week43-44/exercises43-44.ipynb#X13sZmlsZQ%3D%3D?line=97'>98</a>\u001b[0m     params, opt_state \u001b[39m=\u001b[39m update_params(params, grads, opt_state)\n",
      "\u001b[1;32m/home/brage/FYS-STK3155/Projects/weekley_exsercises/week43-44/exercises43-44.ipynb Cell 11\u001b[0m line \u001b[0;36m2\n\u001b[1;32m     <a href='vscode-notebook-cell:/home/brage/FYS-STK3155/Projects/weekley_exsercises/week43-44/exercises43-44.ipynb#X13sZmlsZQ%3D%3D?line=16'>17</a>\u001b[0m \u001b[39mfor\u001b[39;00m i \u001b[39min\u001b[39;00m \u001b[39mrange\u001b[39m(\u001b[39mlen\u001b[39m(network[\u001b[39m0\u001b[39m]) \u001b[39m-\u001b[39m \u001b[39m1\u001b[39m):\n\u001b[1;32m     <a href='vscode-notebook-cell:/home/brage/FYS-STK3155/Projects/weekley_exsercises/week43-44/exercises43-44.ipynb#X13sZmlsZQ%3D%3D?line=17'>18</a>\u001b[0m     activations\u001b[39m.\u001b[39mappend(acitvation_functions[i](np\u001b[39m.\u001b[39mdot(activations[\u001b[39m-\u001b[39m\u001b[39m1\u001b[39m], network[i][\u001b[39m'\u001b[39m\u001b[39mw\u001b[39m\u001b[39m'\u001b[39m]) \u001b[39m+\u001b[39m network[i][\u001b[39m'\u001b[39m\u001b[39mb\u001b[39m\u001b[39m'\u001b[39m]))\n\u001b[0;32m---> <a href='vscode-notebook-cell:/home/brage/FYS-STK3155/Projects/weekley_exsercises/week43-44/exercises43-44.ipynb#X13sZmlsZQ%3D%3D?line=19'>20</a>\u001b[0m activations\u001b[39m.\u001b[39mappend(np\u001b[39m.\u001b[39;49mdot(activations[\u001b[39m-\u001b[39;49m\u001b[39m1\u001b[39;49m], network[\u001b[39m-\u001b[39;49m\u001b[39m1\u001b[39;49m][\u001b[39m'\u001b[39;49m\u001b[39mw\u001b[39;49m\u001b[39m'\u001b[39;49m]) \u001b[39m+\u001b[39m network[\u001b[39m-\u001b[39m\u001b[39m1\u001b[39m][\u001b[39m'\u001b[39m\u001b[39mb\u001b[39m\u001b[39m'\u001b[39m])\n\u001b[1;32m     <a href='vscode-notebook-cell:/home/brage/FYS-STK3155/Projects/weekley_exsercises/week43-44/exercises43-44.ipynb#X13sZmlsZQ%3D%3D?line=20'>21</a>\u001b[0m \u001b[39mreturn\u001b[39;00m activations\n",
      "    \u001b[0;31m[... skipping hidden 12 frame]\u001b[0m\n",
      "File \u001b[0;32m~/anaconda3/envs/ML/lib/python3.10/site-packages/jax/_src/numpy/lax_numpy.py:3122\u001b[0m, in \u001b[0;36mdot\u001b[0;34m(a, b, precision, preferred_element_type)\u001b[0m\n\u001b[1;32m   3120\u001b[0m   \u001b[39melse\u001b[39;00m:\n\u001b[1;32m   3121\u001b[0m     contract_dims \u001b[39m=\u001b[39m ((a_ndim \u001b[39m-\u001b[39m \u001b[39m1\u001b[39m,), (b_ndim \u001b[39m-\u001b[39m \u001b[39m2\u001b[39m,))\n\u001b[0;32m-> 3122\u001b[0m   result \u001b[39m=\u001b[39m lax\u001b[39m.\u001b[39;49mdot_general(a, b, dimension_numbers\u001b[39m=\u001b[39;49m(contract_dims, batch_dims),\n\u001b[1;32m   3123\u001b[0m                            precision\u001b[39m=\u001b[39;49mprecision, preferred_element_type\u001b[39m=\u001b[39;49mpreferred_element_type)\n\u001b[1;32m   3124\u001b[0m \u001b[39mreturn\u001b[39;00m lax_internal\u001b[39m.\u001b[39m_convert_element_type(result, preferred_element_type, output_weak_type)\n",
      "    \u001b[0;31m[... skipping hidden 7 frame]\u001b[0m\n",
      "File \u001b[0;32m~/anaconda3/envs/ML/lib/python3.10/site-packages/jax/_src/lax/lax.py:2572\u001b[0m, in \u001b[0;36m_dot_general_shape_rule\u001b[0;34m(lhs, rhs, dimension_numbers, precision, preferred_element_type)\u001b[0m\n\u001b[1;32m   2569\u001b[0m \u001b[39mif\u001b[39;00m \u001b[39mnot\u001b[39;00m core\u001b[39m.\u001b[39mdefinitely_equal_shape(lhs_contracting_shape, rhs_contracting_shape):\n\u001b[1;32m   2570\u001b[0m   msg \u001b[39m=\u001b[39m (\u001b[39m\"\u001b[39m\u001b[39mdot_general requires contracting dimensions to have the same \u001b[39m\u001b[39m\"\u001b[39m\n\u001b[1;32m   2571\u001b[0m          \u001b[39m\"\u001b[39m\u001b[39mshape, got \u001b[39m\u001b[39m{}\u001b[39;00m\u001b[39m and \u001b[39m\u001b[39m{}\u001b[39;00m\u001b[39m.\u001b[39m\u001b[39m\"\u001b[39m)\n\u001b[0;32m-> 2572\u001b[0m   \u001b[39mraise\u001b[39;00m \u001b[39mTypeError\u001b[39;00m(msg\u001b[39m.\u001b[39mformat(lhs_contracting_shape, rhs_contracting_shape))\n\u001b[1;32m   2574\u001b[0m \u001b[39mreturn\u001b[39;00m _dot_general_shape_computation(lhs\u001b[39m.\u001b[39mshape, rhs\u001b[39m.\u001b[39mshape, dimension_numbers)\n",
      "\u001b[0;31mTypeError\u001b[0m: dot_general requires contracting dimensions to have the same shape, got (1,) and (2,)."
     ]
    }
   ],
   "source": []
  },
  {
   "cell_type": "code",
   "execution_count": null,
   "metadata": {},
   "outputs": [],
   "source": []
  },
  {
   "cell_type": "markdown",
   "metadata": {},
   "source": [
    "### One hidden layer"
   ]
  },
  {
   "cell_type": "code",
   "execution_count": null,
   "metadata": {},
   "outputs": [],
   "source": []
  },
  {
   "cell_type": "code",
   "execution_count": null,
   "metadata": {},
   "outputs": [],
   "source": []
  }
 ],
 "metadata": {
  "kernelspec": {
   "display_name": "ML",
   "language": "python",
   "name": "python3"
  },
  "language_info": {
   "codemirror_mode": {
    "name": "ipython",
    "version": 3
   },
   "file_extension": ".py",
   "mimetype": "text/x-python",
   "name": "python",
   "nbconvert_exporter": "python",
   "pygments_lexer": "ipython3",
   "version": "3.10.13"
  }
 },
 "nbformat": 4,
 "nbformat_minor": 4
}
