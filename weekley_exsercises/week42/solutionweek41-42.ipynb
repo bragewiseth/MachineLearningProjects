{
 "cells": [
  {
   "cell_type": "markdown",
   "metadata": {},
   "source": [
    "# Solution to exercises for week 41-42\n",
    "##### Brage Wiseth, Eirik Jahr, Felix Cameren\n",
    "\n",
    "\n",
    "##### week 41\n",
    "\n",
    "1. A plain gradient descent with a fixed learning rate (you will need to tune it) using the analytical expression of the gradients\n",
    "\n",
    "2. Add momentum to the plain GD code and compare convergence with a fixed learning rate (you may need to tune the learning rate), again using the analytical expression of the gradients.\n",
    "\n",
    "3. Repeat these steps for stochastic gradient descent with mini batches and a given number of epochs. Use a tunable learning rate as discussed in the lectures from week 39. Discuss the results as functions of the various parameters (size of batches, number of epochs etc)\n",
    "\n",
    "4. Implement the Adagrad method in order to tune the learning rate. Do this with and without momentum for plain gradient descent and SGD.\n",
    "\n",
    "5. Add RMSprop and Adam to your library of methods for tuning the learning rate.\n",
    "\n",
    "##### week 42 same as week 41 but using automatic differentiation\n",
    "\n",
    "1. A plain gradient descent with a fixed learning rate (you will need to tune it) using automatic differentiation. Compare this with the analytical expression of the gradients you obtained last week. Feel free to use **Autograd** as Python package or **JAX**. You can use the examples form last week.\n",
    "\n",
    "2. Add momentum to the plain GD code and compare convergence with a fixed learning rate (you may need to tune the learning rate). Compare this with the analytical expression of the gradients you obtained last week.\n",
    "\n",
    "3. Repeat these steps for stochastic gradient descent with mini batches and a given number of epochs. Use a tunable learning rate as discussed in the lectures from week 39. Discuss the results as functions of the various parameters (size of batches, number of epochs etc)\n",
    "\n",
    "4. Implement the Adagrad method in order to tune the learning rate. Do this with and without momentum for plain gradient descent and SGD using automatic differentiation..\n",
    "\n",
    "5. Add RMSprop and Adam to your library of methods for tuning the learning rate. Again using automatic differentiation."
   ]
  },
  {
   "cell_type": "markdown",
   "metadata": {},
   "source": [
    "## Data"
   ]
  },
  {
   "cell_type": "code",
   "execution_count": 14,
   "metadata": {},
   "outputs": [
    {
     "data": {
      "text/plain": [
       "Text(0.5, 1.0, 'Scatter plot of noisy data')"
      ]
     },
     "execution_count": 14,
     "metadata": {},
     "output_type": "execute_result"
    },
    {
     "data": {
      "image/png": "[encoded data removed]",
      "text/plain": [
       "<Figure size 640x480 with 1 Axes>"
      ]
     },
     "metadata": {},
     "output_type": "display_data"
    }
   ],
   "source": [
    "import numpy as np\n",
    "from matplotlib import pyplot as plt\n",
    "\n",
    "\n",
    "def f(x):\n",
    "    return 0.2*x + 0.8*x**2 + 2*x**3\n",
    "\n",
    "rng = np.random.default_rng(1234)\n",
    "x = rng.uniform(-1, 1, size=(1000,))\n",
    "y = f(x) + rng.normal(0, 0.1, size=(1000,))\n",
    "plt.scatter(x, y, s=1)\n",
    "plt.title(\"Scatter plot of noisy data\")"
   ]
  },
  {
   "cell_type": "markdown",
   "metadata": {},
   "source": [
    "## Preprocessing"
   ]
  },
  {
   "cell_type": "code",
   "execution_count": 15,
   "metadata": {},
   "outputs": [],
   "source": [
    "from sklearn.preprocessing import PolynomialFeatures\n",
    "from sklearn.preprocessing import StandardScaler\n",
    "from sklearn.model_selection import train_test_split\n",
    "\n",
    "poly = PolynomialFeatures(degree=3, include_bias=False)\n",
    "scaler = StandardScaler()\n",
    "\n",
    "X = poly.fit_transform(x.reshape(-1, 1))\n",
    "X_train, X_test, y_train, y_test = train_test_split(X, y.reshape(-1,1), test_size=0.2, random_state=1234)\n",
    "X_train = scaler.fit_transform(X_train)\n",
    "X_test = scaler.transform(X_test)\n",
    "y_train_mean = y_train.mean()\n",
    "y_train_scaled = y_train - y_train_mean"
   ]
  },
  {
   "cell_type": "markdown",
   "metadata": {},
   "source": [
    "## Methods\n",
    "### Parent class for all methods"
   ]
  },
  {
   "cell_type": "code",
   "execution_count": 28,
   "metadata": {},
   "outputs": [],
   "source": [
    "def MSE(y_pred, y):\n",
    "    return np.mean((y_pred - y)**2)\n",
    "\n",
    "def MSE_Ridge(y_pred, y, w, alpha):\n",
    "    return np.mean((y_pred - y)**2) + alpha*np.sum(w**2)\n",
    "\n",
    "\n",
    "# Super class for all linear regression models\n",
    "class NumpyLinReg():\n",
    "\n",
    "    def __init__(self, bias=0, eta=0.1, epochs=100, tol=0.001):\n",
    "        self.bias = bias\n",
    "        self.eta = eta\n",
    "        self.epochs = epochs\n",
    "        self.tol = tol\n",
    "\n",
    "    def fit(self, X_train, t_train, X_val=None, t_val=None):\n",
    "        (N, m) = X_train.shape\n",
    "\n",
    "        self.weights = np.zeros(m)\n",
    "\n",
    "        if (X_val is None) or (t_val is None): \n",
    "            for e in range(self.epochs):\n",
    "                self.learn(X_train, t_train, N)\n",
    "\n",
    "        else:\n",
    "            self.loss = np.zeros(self.epochs)\n",
    "            for e in range(self.epochs):\n",
    "                self.learn(X_train, t_train, N) \n",
    "                self.loss[e] = MSE(X_val @ self.weights, t_val)\n",
    "                if e > 0 and np.abs(self.loss[e] - self.loss[e-1]) < self.tol:\n",
    "                    break\n",
    "\n",
    "\n",
    "\n",
    "    def predict(self, X):\n",
    "        return X @ self.weights\n",
    "\n",
    "    def learn(self, X, t, N):\n",
    "        pass"
   ]
  },
  {
   "cell_type": "markdown",
   "metadata": {},
   "source": [
    "### Analytical"
   ]
  },
  {
   "cell_type": "code",
   "execution_count": 17,
   "metadata": {},
   "outputs": [],
   "source": [
    "class AnalyticalLinReg(NumpyLinReg):\n",
    "\n",
    "    def fit(self, X_train, t_train, X_val=None, t_val=None):\n",
    "        (N, m) = X_train.shape\n",
    "        self.weights = np.linalg.inv(X_train.T @ X_train) @ X_train.T @ t_train"
   ]
  },
  {
   "cell_type": "markdown",
   "metadata": {},
   "source": [
    "### Gradient descent with hessian matrix inverse (gets computationaly heavy real quick)"
   ]
  },
  {
   "cell_type": "code",
   "execution_count": 18,
   "metadata": {},
   "outputs": [],
   "source": [
    "class HessianInvGD(NumpyLinReg):\n",
    "\n",
    "    def learn(self, X, t, N):\n",
    "        y = self.predict(X)\n",
    "        grad = (2.0/N) * X.T @ (y - t)\n",
    "        hessian = (2.0/N) * X.T @ X\n",
    "        self.weights -= np.linalg.inv(hessian) @ grad"
   ]
  },
  {
   "cell_type": "markdown",
   "metadata": {},
   "source": [
    "### Standard gradient descent (with optional momentum)"
   ]
  },
  {
   "cell_type": "code",
   "execution_count": 19,
   "metadata": {},
   "outputs": [],
   "source": [
    "class SGD(NumpyLinReg):\n",
    "\n",
    "    def __init__(self, bias=0, eta=0.1, epochs=100, tol=0.001, gamma=0):\n",
    "        super().__init__(bias, eta, epochs, tol)\n",
    "        self.gamma = gamma\n",
    "\n",
    "    def learn(self, X, t, N):\n",
    "        gradient = 2.0/N * X.T @ (X @ self.weights - t)\n",
    "        change = self.eta*gradient + self.gamma * change\n",
    "        self.weights -= change"
   ]
  },
  {
   "cell_type": "markdown",
   "metadata": {},
   "source": [
    "### Ridge gradient descent (with optional momentum)"
   ]
  },
  {
   "cell_type": "code",
   "execution_count": 20,
   "metadata": {},
   "outputs": [],
   "source": [
    "class RidgeGD(NumpyLinReg):\n",
    "\n",
    "    def __init__(self, bias=0, eta=0.1, epochs=100, tol=0.001, alpha=0.1, gamma=0):\n",
    "        super().__init__(bias, eta, epochs, tol)\n",
    "        self.alpha = alpha\n",
    "        self.gamma = gamma\n",
    "\n",
    "    def learn(self, X, t, N):\n",
    "        gradient = 2.0/N * X.T @ (X @ self.weights - t) + 2*self.alpha*self.weights\n",
    "        change = self.eta*gradient + self.gamma * change\n",
    "        self.weights -= change"
   ]
  },
  {
   "cell_type": "markdown",
   "metadata": {},
   "source": [
    "### Adagrad (with optional momentum)"
   ]
  },
  {
   "cell_type": "code",
   "execution_count": 21,
   "metadata": {},
   "outputs": [],
   "source": [
    "class Adagrad(NumpyLinReg):\n",
    "\n",
    "    def __init__(self, bias=0, eta=0.1, epochs=100, tol=0.001, epsilon=1e-8, gamma=0):\n",
    "        super().__init__(bias, eta, epochs, tol)\n",
    "        self.gamma = gamma\n",
    "        self.epsilon = epsilon\n",
    "        self.G = 0\n",
    "\n",
    "    def learn(self, X, t, N):\n",
    "        gradient = 2.0/N * X.T @ (X @ self.weights - t)\n",
    "        self.G += gradient**2\n",
    "        change = self.eta*gradient / (np.sqrt(self.G) + self.epsilon) + self.gamma * change\n",
    "        self.weights -= change "
   ]
  },
  {
   "cell_type": "markdown",
   "metadata": {},
   "source": [
    "### RMSprop"
   ]
  },
  {
   "cell_type": "code",
   "execution_count": 22,
   "metadata": {},
   "outputs": [],
   "source": [
    "class RMSprop(NumpyLinReg):\n",
    "\n",
    "    def __init__(self, bias=0, eta=0.1, epochs=100, tol=0.001, epsilon=0.0001, decay=0.9):\n",
    "        super().__init__(bias, eta, epochs, tol)\n",
    "        self.epsilon = epsilon\n",
    "        self.G = 0\n",
    "        self.decay = decay\n",
    "\n",
    "    def learn(self, X, t, N):\n",
    "        gradient = 2.0/N * X.T @ (X @ self.weights - t)\n",
    "        self.G = self.decay * self.G + (1-self.decay) * gradient**2\n",
    "        self.weights -= self.eta * gradient / (np.sqrt(self.G) + self.epsilon)"
   ]
  },
  {
   "cell_type": "markdown",
   "metadata": {},
   "source": [
    "### Adam"
   ]
  },
  {
   "cell_type": "code",
   "execution_count": 23,
   "metadata": {},
   "outputs": [],
   "source": [
    "class Adam(NumpyLinReg):\n",
    "\n",
    "    def __init__(self, bias=0, eta=0.1, epochs=100, tol=0.001, epsilon=0.0001, beta1=0.9, beta2=0.999):\n",
    "        super().__init__(bias, eta, epochs, tol)\n",
    "        self.epsilon = epsilon\n",
    "        self.m = 0\n",
    "        self.v = 0\n",
    "        self.beta1 = beta1\n",
    "        self.beta2 = beta2\n",
    "\n",
    "    def learn(self, X, t, N):\n",
    "        gradient = 2.0/N * X.T @ (X @ self.weights - t)\n",
    "        self.m = self.beta1 * self.m + (1-self.beta1) * gradient\n",
    "        self.v = self.beta2 * self.v + (1-self.beta2) * gradient**2\n",
    "        m_hat = self.m / (1-self.beta1)\n",
    "        v_hat = self.v / (1-self.beta2)\n",
    "        self.weights -= self.eta * m_hat / (np.sqrt(v_hat) + self.epsilon)"
   ]
  },
  {
   "cell_type": "markdown",
   "metadata": {},
   "source": [
    "## Automatic differentiation\n",
    "### Automatic standard gradient descent (with optional momentum)"
   ]
  },
  {
   "cell_type": "code",
   "execution_count": 24,
   "metadata": {},
   "outputs": [],
   "source": [
    "import jax.numpy as jnp\n",
    "from jax import grad\n",
    "\n",
    "\n",
    "class JaxLinReg(NumpyLinReg):\n",
    "\n",
    "    def __init__(self, bias=0, eta=0.1, epochs=100, tol=0.001, gamma=0):\n",
    "        super().__init__(bias, eta, epochs, tol)\n",
    "        self.gamma = gamma\n",
    "\n",
    "    def learn(self, X, t, N):\n",
    "        gradient = grad(MSE)(self.weights, X, t) \n",
    "        change = self.eta*gradient + self.gamma * change\n",
    "        self.weights -= change\n",
    "    \n"
   ]
  },
  {
   "cell_type": "markdown",
   "metadata": {},
   "source": [
    "### Automatic ridge gradient descent (with optional momentum)"
   ]
  },
  {
   "cell_type": "code",
   "execution_count": null,
   "metadata": {},
   "outputs": [],
   "source": [
    "class JaxLinRegRidge(NumpyLinReg):\n",
    "\n",
    "    def __init__(self, bias=0, eta=0.1, epochs=100, tol=0.001, alpha=0.1, gamma=0):\n",
    "        super().__init__(bias, eta, epochs, tol)\n",
    "        self.alpha = alpha\n",
    "        self.gamma = gamma\n",
    "\n",
    "    def learn(self, X, t, N):\n",
    "        gradient = grad(MSE_Ridge)(self.weights, X, t, self.alpha)\n",
    "        change = self.eta*gradient + self.gamma * change\n",
    "        self.weights -= change"
   ]
  },
  {
   "cell_type": "markdown",
   "metadata": {},
   "source": [
    "### Automatic adagrad (with optional momentum)"
   ]
  },
  {
   "cell_type": "code",
   "execution_count": null,
   "metadata": {},
   "outputs": [],
   "source": [
    "class JaxLinRegHessianInv(NumpyLinReg):\n",
    "\n",
    "    def __init__(self, bias=0, eta=0.1, epochs=100, tol=0.001, epsilon=1e-8, gamma=0):\n",
    "        super().__init__(bias, eta, epochs, tol)\n",
    "        self.gamma = gamma\n",
    "        self.epsilon = epsilon\n",
    "        self.G = 0\n",
    "\n",
    "    def learn(self, X, t, N):\n",
    "        gradient = grad(MSE)(self.weights, X, t) \n",
    "        self.G += gradient**2\n",
    "        change = self.eta*gradient / (np.sqrt(self.G) + self.epsilon) + self.gamma * change\n",
    "        self.weights -= change "
   ]
  },
  {
   "cell_type": "markdown",
   "metadata": {},
   "source": [
    "### Automatic RMSprop"
   ]
  },
  {
   "cell_type": "code",
   "execution_count": null,
   "metadata": {},
   "outputs": [],
   "source": [
    "class JaxLinRegRMSprop(NumpyLinReg):\n",
    "\n",
    "    def __init__(self, bias=0, eta=0.1, epochs=100, tol=0.001, epsilon=0.0001, decay=0.9):\n",
    "        super().__init__(bias, eta, epochs, tol)\n",
    "        self.epsilon = epsilon\n",
    "        self.G = 0\n",
    "        self.decay = decay\n",
    "\n",
    "    def learn(self, X, t, N):\n",
    "        gradient = grad(MSE)(self.weights, X, t)\n",
    "        self.G = self.decay * self.G + (1-self.decay) * gradient**2\n",
    "        self.weights -= self.eta * gradient / (np.sqrt(self.G) + self.epsilon)"
   ]
  },
  {
   "cell_type": "markdown",
   "metadata": {},
   "source": [
    "### Automatic Adam"
   ]
  },
  {
   "cell_type": "code",
   "execution_count": 26,
   "metadata": {},
   "outputs": [],
   "source": [
    "class JaxLinRegAdam(NumpyLinReg):\n",
    "\n",
    "    def __init__(self, bias=0, eta=0.1, epochs=100, tol=0.001, epsilon=0.0001, beta1=0.9, beta2=0.999):\n",
    "        super().__init__(bias, eta, epochs, tol)\n",
    "        self.epsilon = epsilon\n",
    "        self.m = 0\n",
    "        self.v = 0\n",
    "        self.beta1 = beta1\n",
    "        self.beta2 = beta2\n",
    "\n",
    "    def learn(self, X, t, N):\n",
    "        gradient = grad(MSE)(self.weights, X, t)\n",
    "        self.m = self.beta1 * self.m + (1-self.beta1) * gradient\n",
    "        self.v = self.beta2 * self.v + (1-self.beta2) * gradient**2\n",
    "        m_hat = self.m / (1-self.beta1)\n",
    "        v_hat = self.v / (1-self.beta2)\n",
    "        self.weights -= self.eta * m_hat / (np.sqrt(v_hat) + self.epsilon)"
   ]
  },
  {
   "cell_type": "markdown",
   "metadata": {},
   "source": [
    "## Results"
   ]
  },
  {
   "cell_type": "code",
   "execution_count": 25,
   "metadata": {},
   "outputs": [
    {
     "ename": "NameError",
     "evalue": "name 'learning_rate' is not defined",
     "output_type": "error",
     "traceback": [
      "\u001b[0;31m---------------------------------------------------------------------------\u001b[0m",
      "\u001b[0;31mNameError\u001b[0m                                 Traceback (most recent call last)",
      "\u001b[1;32m/home/brage/FYS-STK3155/Projects/weekley_exsercises/week42/solutionweek41-42.ipynb Cell 24\u001b[0m line \u001b[0;36m1\n\u001b[0;32m----> <a href='vscode-notebook-cell:/home/brage/FYS-STK3155/Projects/weekley_exsercises/week42/solutionweek41-42.ipynb#X35sZmlsZQ%3D%3D?line=0'>1</a>\u001b[0m plots,ax \u001b[39m=\u001b[39m plt\u001b[39m.\u001b[39msubplots(\u001b[39mint\u001b[39m(\u001b[39mlen\u001b[39m(learning_rate)\u001b[39m/\u001b[39m\u001b[39m/\u001b[39m\u001b[39m2\u001b[39m\u001b[39m+\u001b[39m\u001b[39mlen\u001b[39m(learning_rate)\u001b[39m%\u001b[39m\u001b[39m2\u001b[39m),\u001b[39m2\u001b[39m,constrained_layout\u001b[39m=\u001b[39m\u001b[39mTrue\u001b[39;00m)\n\u001b[1;32m      <a href='vscode-notebook-cell:/home/brage/FYS-STK3155/Projects/weekley_exsercises/week42/solutionweek41-42.ipynb#X35sZmlsZQ%3D%3D?line=1'>2</a>\u001b[0m plots\u001b[39m.\u001b[39msuptitle(\u001b[39m\"\u001b[39m\u001b[39mMSE over iterations\u001b[39m\u001b[39m\"\u001b[39m)\n\u001b[1;32m      <a href='vscode-notebook-cell:/home/brage/FYS-STK3155/Projects/weekley_exsercises/week42/solutionweek41-42.ipynb#X35sZmlsZQ%3D%3D?line=2'>3</a>\u001b[0m lines \u001b[39m=\u001b[39m[]\n",
      "\u001b[0;31mNameError\u001b[0m: name 'learning_rate' is not defined"
     ]
    }
   ],
   "source": [
    "etas = [0.01, 0.1, 0.5, 1]\n",
    "epochs = 1000\n",
    "tol = 0.0001\n",
    "gammas = [0, 0.9, 0.99, 0.999]\n",
    "alphas = [0.01, 0.1, 0.5, 1]\n",
    "epsilon = 1e-8\n",
    "decay = 0.9\n",
    "beta1 = 0.9\n",
    "beta2 = 0.999\n",
    "\n",
    "\n",
    "analytical = AnalyticalLinReg()\n",
    "analytical.fit(X_train, y_train_scaled)\n",
    "print(\"Analytical solution: \", MSE(analytical.predict(X_test), y_test))\n",
    "\n",
    "for i, eta in enumerate(etas):\n",
    "    hessianGd = HessianInvGD(eta=eta, epochs=epochs, tol=tol)\n",
    "    hessianGd.fit(X_train, y_train_scaled, X_test, y_test)\n",
    "    for j, gamma in enumerate(gammas):\n",
    "        sdg = SGD(eta=eta, epochs=epochs, tol=tol, gamma=gamma)\n",
    "        adagrad = Adagrad(eta=eta, epochs=epochs, tol=tol, epsilon=epsilon, gamma=gamma)\n",
    "        rmsprop = RMSprop(eta=eta, epochs=epochs, tol=tol, epsilon=epsilon, decay=decay)\n",
    "        adam = Adam(eta=eta, epochs=epochs, tol=tol, epsilon=epsilon, beta1=beta1, beta2=beta2)\n",
    "        sdgJax = JaxLinReg(eta=eta, epochs=epochs, tol=tol, gamma=gamma)\n",
    "        adagradJax = JaxLinRegHessianInv(eta=eta, epochs=epochs, tol=tol, epsilon=epsilon, gamma=gamma)\n",
    "        rmspropJax = JaxLinRegRMSprop(eta=eta, epochs=epochs, tol=tol, epsilon=epsilon, decay=decay)\n",
    "        adamJax = JaxLinRegAdam(eta=eta, epochs=epochs, tol=tol, epsilon=epsilon, beta1=beta1, beta2=beta2)\n",
    "        sdg.fit(X_train, y_train_scaled, X_test, y_test)\n",
    "        adagrad.fit(X_train, y_train_scaled, X_test, y_test)\n",
    "        rmsprop.fit(X_train, y_train_scaled, X_test, y_test)\n",
    "        adam.fit(X_train, y_train_scaled, X_test, y_test)\n",
    "        sdgJax.fit(X_train, y_train_scaled, X_test, y_test)\n",
    "        adagradJax.fit(X_train, y_train_scaled, X_test, y_test)\n",
    "        rmspropJax.fit(X_train, y_train_scaled, X_test, y_test)\n",
    "        adamJax.fit(X_train, y_train_scaled, X_test, y_test)\n",
    "        for k, alpha in enumerate(alphas):\n",
    "            ridgeGd = RidgeGD(eta=eta, epochs=epochs, tol=tol, alpha=alpha, gamma=gamma)\n",
    "            ridgeGdJax = JaxLinRegRidge(eta=eta, epochs=epochs, tol=tol, alpha=alpha, gamma=gamma)\n",
    "            ridgeGd.fit(X_train, y_train_scaled, X_test, y_test)\n",
    "            ridgeGdJax.fit(X_train, y_train_scaled, X_test, y_test)\n",
    "\n",
    "\n",
    "\n",
    "\n",
    "\n",
    "colours = [\"m\",\"k\",\"b\",\"r\"]\n",
    "plots,ax = plt.subplots(int(len(etas)//2+len(etas)%2),2,constrained_layout=True)\n",
    "plots.suptitle(\"MSE over iterations\")\n",
    "lines =[]\n",
    "for i in range(len(gammas)):\n",
    "    lines.append(Line2D([0],[0], color = colours[i],lw=1))\n",
    "\n",
    "for i in range(len(etas)):\n",
    "    for j in range(len(gammas)):\n",
    "        ite = np.min(epochs)\n",
    "        ax[int(i//2),i%2].set_title(\"learning rate: \"+ str(etas[i])+\"    \")\n",
    "        ax[int(i//2),i%2].plot(range(ite-1),plts[j][i][0:ite-1],color=colours[j])\n",
    "plots.legend(lines,gammas)\n",
    "plt.show()"
   ]
  }
 ],
 "metadata": {
  "kernelspec": {
   "display_name": "base",
   "language": "python",
   "name": "python3"
  },
  "language_info": {
   "codemirror_mode": {
    "name": "ipython",
    "version": 3
   },
   "file_extension": ".py",
   "mimetype": "text/x-python",
   "name": "python",
   "nbconvert_exporter": "python",
   "pygments_lexer": "ipython3",
   "version": "3.10.12"
  }
 },
 "nbformat": 4,
 "nbformat_minor": 2
}
