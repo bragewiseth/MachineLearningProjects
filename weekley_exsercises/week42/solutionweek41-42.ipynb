{
 "cells": [
  {
   "cell_type": "markdown",
   "metadata": {},
   "source": [
    "# Solution to exercises for week 41-42\n",
    "##### Brage Wiseth, Eirik Jahr, Felix Cameren\n",
    "\n",
    "\n",
    "##### week 41\n",
    "\n",
    "1. A plain gradient descent with a fixed learning rate (you will need to tune it) using the analytical expression of the gradients\n",
    "\n",
    "2. Add momentum to the plain GD code and compare convergence with a fixed learning rate (you may need to tune the learning rate), again using the analytical expression of the gradients.\n",
    "\n",
    "3. Repeat these steps for stochastic gradient descent with mini batches and a given number of epochs. Use a tunable learning rate as discussed in the lectures from week 39. Discuss the results as functions of the various parameters (size of batches, number of epochs etc)\n",
    "\n",
    "4. Implement the Adagrad method in order to tune the learning rate. Do this with and without momentum for plain gradient descent and SGD.\n",
    "\n",
    "5. Add RMSprop and Adam to your library of methods for tuning the learning rate.\n",
    "\n",
    "##### week 42 same as week 41 but using automatic differentiation\n",
    "\n",
    "1. A plain gradient descent with a fixed learning rate (you will need to tune it) using automatic differentiation. Compare this with the analytical expression of the gradients you obtained last week. Feel free to use **Autograd** as Python package or **JAX**. You can use the examples form last week.\n",
    "\n",
    "2. Add momentum to the plain GD code and compare convergence with a fixed learning rate (you may need to tune the learning rate). Compare this with the analytical expression of the gradients you obtained last week.\n",
    "\n",
    "3. Repeat these steps for stochastic gradient descent with mini batches and a given number of epochs. Use a tunable learning rate as discussed in the lectures from week 39. Discuss the results as functions of the various parameters (size of batches, number of epochs etc)\n",
    "\n",
    "4. Implement the Adagrad method in order to tune the learning rate. Do this with and without momentum for plain gradient descent and SGD using automatic differentiation..\n",
    "\n",
    "5. Add RMSprop and Adam to your library of methods for tuning the learning rate. Again using automatic differentiation."
   ]
  },
  {
   "cell_type": "markdown",
   "metadata": {},
   "source": [
    "## Data"
   ]
  },
  {
   "cell_type": "code",
   "execution_count": 1292,
   "metadata": {},
   "outputs": [
    {
     "data": {
      "text/plain": [
       "Text(0.5, 1.0, 'Scatter plot of noisy data')"
      ]
     },
     "execution_count": 1292,
     "metadata": {},
     "output_type": "execute_result"
    },
    {
     "data": {
      "image/png": "[encoded data removed]",
      "text/plain": [
       "<Figure size 640x480 with 1 Axes>"
      ]
     },
     "metadata": {},
     "output_type": "display_data"
    }
   ],
   "source": [
    "import numpy as np\n",
    "import jax.numpy as jnp\n",
    "from jax import jit\n",
    "import jax\n",
    "from matplotlib import pyplot as plt\n",
    "\n",
    "\n",
    "def f(x):\n",
    "    return 0.2*x + 0.8*x**2 + 2*x**3\n",
    "\n",
    "key = jax.random.PRNGKey(1234)\n",
    "x = jax.random.uniform(key, (1000,),jnp.float32, -1, 1)\n",
    "key, subkey = jax.random.split(key)\n",
    "y = f(x) + 0.15 * jax.random.normal(subkey, (1000,),jnp.float32)\n",
    "plt.scatter(x, y, s=1)\n",
    "plt.title(\"Scatter plot of noisy data\")"
   ]
  },
  {
   "cell_type": "markdown",
   "metadata": {},
   "source": [
    "## Preprocessing"
   ]
  },
  {
   "cell_type": "code",
   "execution_count": 1293,
   "metadata": {},
   "outputs": [],
   "source": [
    "from sklearn.preprocessing import PolynomialFeatures\n",
    "from sklearn.preprocessing import StandardScaler\n",
    "from sklearn.model_selection import train_test_split\n",
    "\n",
    "poly = PolynomialFeatures(degree=3, include_bias=False)\n",
    "scaler = StandardScaler()\n",
    "\n",
    "X = poly.fit_transform(x.reshape(-1, 1))\n",
    "X_train, X_test, y_train, y_test = train_test_split(X, y, test_size=0.2, random_state=1234)\n",
    "X_train = scaler.fit_transform(X_train)\n",
    "X_test = scaler.transform(X_test)\n",
    "y_train_mean = y_train.mean()\n",
    "y_train = y_train - y_train_mean\n",
    "X_train = jnp.array(X_train)\n",
    "y_train = jnp.array(y_train)\n",
    "X_test = jnp.array(X_test)\n",
    "y_test = jnp.array(y_test)"
   ]
  },
  {
   "cell_type": "markdown",
   "metadata": {},
   "source": [
    "## Methods\n",
    "### Parent class for all methods"
   ]
  },
  {
   "cell_type": "code",
   "execution_count": 1294,
   "metadata": {},
   "outputs": [],
   "source": [
    "def MSE(w, X , y) -> jnp.float32:\n",
    "    y_pred = X @ w\n",
    "    return jnp.mean((y_pred.astype(np.float32) - y.astype(np.float32))**2)\n",
    "\n",
    "def MSE_Ridge(w, X, y, alpha) -> jnp.float32:\n",
    "    y_pred = X @ w\n",
    "    return jnp.mean((y_pred - y)**2) + alpha*np.sum(w**2)\n",
    "\n",
    "\n",
    "# Super class for all linear regression models\n",
    "class NumpyLinReg():\n",
    "\n",
    "    def __init__(self, bias=0, eta=0.1, epochs=100, tol=0.001):\n",
    "        self.bias = bias\n",
    "        self.eta = eta\n",
    "        self.epochs = epochs\n",
    "        self.tol = tol\n",
    "\n",
    "    def fit(self, X_train, t_train, X_val=None, t_val=None, batch_size=X_train.shape[0]):\n",
    "        (N, m) = X_train.shape\n",
    "        batches = int(N/batch_size)\n",
    "\n",
    "        self.weights = jnp.zeros(m, dtype=np.float32)\n",
    "\n",
    "        if (X_val is None) or (t_val is None): \n",
    "            for e in range(self.epochs):\n",
    "                random_index = batch_size*np.random.randint(batches)\n",
    "                self.learn(X_train[random_index:random_index+batch_size], \n",
    "                           t_train[random_index:random_index+batch_size], N\n",
    "                )\n",
    "\n",
    "        else:\n",
    "            self.loss = np.zeros(self.epochs)\n",
    "            for e in range(self.epochs):\n",
    "                random_index = batch_size*np.random.randint(batches)\n",
    "                self.learn( X_train[random_index:random_index+batch_size],\n",
    "                            t_train[random_index:random_index+batch_size], N\n",
    "                ) \n",
    "                self.loss[e] = MSE(self.weights, X_val, t_val)\n",
    "                if e > 0 and np.abs(self.loss[e] - self.loss[e-1]) < self.tol:\n",
    "                    break\n",
    "\n",
    "\n",
    "\n",
    "    def predict(self, X):\n",
    "        return jnp.dot(X, self.weights)\n",
    "\n",
    "    def learn(self, X, t, N):\n",
    "        pass"
   ]
  },
  {
   "cell_type": "markdown",
   "metadata": {},
   "source": [
    "### Analytical"
   ]
  },
  {
   "cell_type": "code",
   "execution_count": 1295,
   "metadata": {},
   "outputs": [],
   "source": [
    "class AnalyticalLinReg(NumpyLinReg):\n",
    "\n",
    "    def fit(self, X_train, t_train, X_val=None, t_val=None):\n",
    "        (N, m) = X_train.shape\n",
    "        self.weights = np.linalg.inv(X_train.T @ X_train) @ X_train.T @ t_train"
   ]
  },
  {
   "cell_type": "markdown",
   "metadata": {},
   "source": [
    "### Gradient descent with hessian matrix inverse (gets computationaly heavy real quick)"
   ]
  },
  {
   "cell_type": "code",
   "execution_count": 1296,
   "metadata": {},
   "outputs": [],
   "source": [
    "class HessianInvGD(NumpyLinReg):\n",
    "\n",
    "    def learn(self, X, t, N):\n",
    "        y = self.predict(X)\n",
    "        grad = (2.0/N) * X.T @ (y - t)\n",
    "        hessian = (2.0/N) * (X.T @ X)\n",
    "        self.weights -= jnp.linalg.inv(hessian) @ grad"
   ]
  },
  {
   "cell_type": "markdown",
   "metadata": {},
   "source": [
    "### Standard gradient descent (with optional momentum)"
   ]
  },
  {
   "cell_type": "code",
   "execution_count": 1297,
   "metadata": {},
   "outputs": [],
   "source": [
    "class SGD(NumpyLinReg):\n",
    "\n",
    "    def __init__(self, bias=0, eta=0.1, epochs=100, tol=0.001, gamma=0):\n",
    "        super().__init__(bias, eta, epochs, tol)\n",
    "        self.gamma = gamma\n",
    "        self.change = 0\n",
    "\n",
    "    def learn(self, X, t, N):\n",
    "        gradient = 2.0/N * X.T @ (X @ self.weights - t)\n",
    "        self.change = self.eta*gradient + self.gamma * self.change\n",
    "        self.weights -= self.change"
   ]
  },
  {
   "cell_type": "markdown",
   "metadata": {},
   "source": [
    "### Ridge gradient descent (with optional momentum)"
   ]
  },
  {
   "cell_type": "code",
   "execution_count": 1298,
   "metadata": {},
   "outputs": [],
   "source": [
    "class RidgeGD(NumpyLinReg):\n",
    "\n",
    "    def __init__(self, bias=0, eta=0.1, epochs=100, tol=0.001, alpha=0.1, gamma=0):\n",
    "        super().__init__(bias, eta, epochs, tol)\n",
    "        self.alpha = alpha\n",
    "        self.gamma = gamma\n",
    "        self.change = 0\n",
    "\n",
    "    def learn(self, X, t, N):\n",
    "        gradient = 2.0/N * X.T @ (X @ self.weights - t) + 2*self.alpha*self.weights\n",
    "        self.change = self.eta*gradient + self.gamma * self.change\n",
    "        self.weights -= self.change"
   ]
  },
  {
   "cell_type": "markdown",
   "metadata": {},
   "source": [
    "### Adagrad (with optional momentum)"
   ]
  },
  {
   "cell_type": "code",
   "execution_count": 1299,
   "metadata": {},
   "outputs": [],
   "source": [
    "class Adagrad(NumpyLinReg):\n",
    "\n",
    "    def __init__(self, bias=0, eta=0.1, epochs=100, tol=0.001, epsilon=1e-8, gamma=0):\n",
    "        super().__init__(bias, eta, epochs, tol)\n",
    "        self.gamma = gamma\n",
    "        self.epsilon = epsilon\n",
    "        self.G = 0\n",
    "        self.change = 0\n",
    "\n",
    "    def learn(self, X, t, N):\n",
    "        gradient = 2.0/N * X.T @ (X @ self.weights - t)\n",
    "        self.G += gradient**2\n",
    "        self.change = self.eta*gradient / (np.sqrt(self.G) + self.epsilon) + self.gamma * self.change\n",
    "        self.weights -= self.change "
   ]
  },
  {
   "cell_type": "markdown",
   "metadata": {},
   "source": [
    "### RMSprop"
   ]
  },
  {
   "cell_type": "code",
   "execution_count": 1300,
   "metadata": {},
   "outputs": [],
   "source": [
    "class RMSprop(NumpyLinReg):\n",
    "\n",
    "    def __init__(self, bias=0, eta=0.1, epochs=100, tol=0.001, epsilon=0.0001, decay=0.9):\n",
    "        super().__init__(bias, eta, epochs, tol)\n",
    "        self.epsilon = epsilon\n",
    "        self.G = 0\n",
    "        self.decay = decay\n",
    "\n",
    "    def learn(self, X, t, N):\n",
    "        gradient = 2.0/N * X.T @ (X @ self.weights - t)\n",
    "        self.G = self.decay * self.G + (1-self.decay) * gradient**2\n",
    "        self.weights -= self.eta * gradient / (np.sqrt(self.G) + self.epsilon)"
   ]
  },
  {
   "cell_type": "markdown",
   "metadata": {},
   "source": [
    "### Adam"
   ]
  },
  {
   "cell_type": "code",
   "execution_count": 1301,
   "metadata": {},
   "outputs": [],
   "source": [
    "class Adam(NumpyLinReg):\n",
    "\n",
    "    def __init__(self, bias=0, eta=0.1, epochs=100, tol=0.001, epsilon=0.0001, beta1=0.9, beta2=0.999):\n",
    "        super().__init__(bias, eta, epochs, tol)\n",
    "        self.epsilon = epsilon\n",
    "        self.m = 0\n",
    "        self.v = 0\n",
    "        self.beta1 = beta1\n",
    "        self.beta2 = beta2\n",
    "\n",
    "    def learn(self, X, t, N):\n",
    "        gradient = 2.0/N * X.T @ (X @ self.weights - t)\n",
    "        self.m = self.beta1 * self.m + (1-self.beta1) * gradient\n",
    "        self.v = self.beta2 * self.v + (1-self.beta2) * gradient**2\n",
    "        m_hat = self.m / (1-self.beta1)\n",
    "        v_hat = self.v / (1-self.beta2)\n",
    "        self.weights -= self.eta * m_hat / (np.sqrt(v_hat) + self.epsilon)"
   ]
  },
  {
   "cell_type": "markdown",
   "metadata": {},
   "source": [
    "## Automatic differentiation\n",
    "### Automatic standard gradient descent (with optional momentum)"
   ]
  },
  {
   "cell_type": "code",
   "execution_count": 1302,
   "metadata": {},
   "outputs": [],
   "source": [
    "from jax import grad\n",
    "\n",
    "\n",
    "class JaxLinReg(NumpyLinReg):\n",
    "\n",
    "    def __init__(self, bias=0, eta=0.1, epochs=100, tol=0.001, gamma=0):\n",
    "        super().__init__(bias, eta, epochs, tol)\n",
    "        self.gamma = gamma\n",
    "        self.change = 0\n",
    "\n",
    "    def learn(self, X, t, N):\n",
    "        gradient = grad(MSE)(self.weights, X, t)\n",
    "        self.change = self.eta*gradient + self.gamma * self.change\n",
    "        self.weights -= self.change"
   ]
  },
  {
   "cell_type": "markdown",
   "metadata": {},
   "source": [
    "### Automatic ridge gradient descent (with optional momentum)"
   ]
  },
  {
   "cell_type": "code",
   "execution_count": 1303,
   "metadata": {},
   "outputs": [],
   "source": [
    "class JaxLinRegRidge(NumpyLinReg):\n",
    "\n",
    "    def __init__(self, bias=0, eta=0.1, epochs=100, tol=0.001, alpha=0.1, gamma=0):\n",
    "        super().__init__(bias, eta, epochs, tol)\n",
    "        self.alpha = alpha\n",
    "        self.gamma = gamma\n",
    "        self.change = 0\n",
    "\n",
    "    def learn(self, X, t, N):\n",
    "        gradient = grad(MSE_Ridge)(self.weights, X, t, self.alpha)\n",
    "        self.change = self.eta*gradient + self.gamma * self.change\n",
    "        self.weights -= self.change"
   ]
  },
  {
   "cell_type": "markdown",
   "metadata": {},
   "source": [
    "### Automatic adagrad (with optional momentum)"
   ]
  },
  {
   "cell_type": "code",
   "execution_count": 1304,
   "metadata": {},
   "outputs": [],
   "source": [
    "class JaxLinRegHessianInv(NumpyLinReg):\n",
    "\n",
    "    def __init__(self, bias=0, eta=0.1, epochs=100, tol=0.001, epsilon=1e-8, gamma=0):\n",
    "        super().__init__(bias, eta, epochs, tol)\n",
    "        self.gamma = gamma\n",
    "        self.epsilon = epsilon\n",
    "        self.G = 0\n",
    "        self.change = 0\n",
    "\n",
    "    def learn(self, X, t, N):\n",
    "        gradient = grad(MSE)(self.weights, X, t) \n",
    "        self.G += gradient**2\n",
    "        self.change = self.eta*gradient / (np.sqrt(self.G) + self.epsilon) + self.gamma * self.change\n",
    "        self.weights -= self.change "
   ]
  },
  {
   "cell_type": "markdown",
   "metadata": {},
   "source": [
    "### Automatic RMSprop"
   ]
  },
  {
   "cell_type": "code",
   "execution_count": 1305,
   "metadata": {},
   "outputs": [],
   "source": [
    "class JaxLinRegRMSprop(NumpyLinReg):\n",
    "\n",
    "    def __init__(self, bias=0, eta=0.1, epochs=100, tol=0.001, epsilon=0.0001, decay=0.9):\n",
    "        super().__init__(bias, eta, epochs, tol)\n",
    "        self.epsilon = epsilon\n",
    "        self.G = 0\n",
    "        self.decay = decay\n",
    "\n",
    "    def learn(self, X, t, N):\n",
    "        gradient = grad(MSE)(self.weights, X, t)\n",
    "        self.G = self.decay * self.G + (1-self.decay) * gradient**2\n",
    "        self.weights -= self.eta * gradient / (np.sqrt(self.G) + self.epsilon)"
   ]
  },
  {
   "cell_type": "markdown",
   "metadata": {},
   "source": [
    "### Automatic Adam"
   ]
  },
  {
   "cell_type": "code",
   "execution_count": 1306,
   "metadata": {},
   "outputs": [],
   "source": [
    "class JaxLinRegAdam(NumpyLinReg):\n",
    "\n",
    "    def __init__(self, bias=0, eta=0.1, epochs=100, tol=0.001, epsilon=0.0001, beta1=0.9, beta2=0.999):\n",
    "        super().__init__(bias, eta, epochs, tol)\n",
    "        self.epsilon = epsilon\n",
    "        self.m = 0\n",
    "        self.v = 0\n",
    "        self.beta1 = beta1\n",
    "        self.beta2 = beta2\n",
    "\n",
    "    def learn(self, X, t, N):\n",
    "        gradient = grad(MSE)(self.weights, X, t)\n",
    "        self.m = self.beta1 * self.m + (1-self.beta1) * gradient\n",
    "        self.v = self.beta2 * self.v + (1-self.beta2) * gradient**2\n",
    "        m_hat = self.m / (1-self.beta1)\n",
    "        v_hat = self.v / (1-self.beta2)\n",
    "        self.weights -= self.eta * m_hat / (np.sqrt(v_hat) + self.epsilon)"
   ]
  },
  {
   "cell_type": "markdown",
   "metadata": {},
   "source": [
    "## Results"
   ]
  },
  {
   "cell_type": "code",
   "execution_count": 1307,
   "metadata": {},
   "outputs": [
    {
     "name": "stdout",
     "output_type": "stream",
     "text": [
      "Analytical solution:  0.08697454\n"
     ]
    },
    {
     "ename": "KeyboardInterrupt",
     "evalue": "",
     "output_type": "error",
     "traceback": [
      "\u001b[0;31m---------------------------------------------------------------------------\u001b[0m",
      "\u001b[0;31mKeyboardInterrupt\u001b[0m                         Traceback (most recent call last)",
      "\u001b[1;32m/home/brage/FYS-STK3155/Projects/weekley_exsercises/week42/solutionweek41-42.ipynb Cell 33\u001b[0m line \u001b[0;36m1\n\u001b[1;32m    <a href='vscode-notebook-cell:/home/brage/FYS-STK3155/Projects/weekley_exsercises/week42/solutionweek41-42.ipynb#X44sZmlsZQ%3D%3D?line=100'>101</a>\u001b[0m                 scoresRidge[i,j] \u001b[39m=\u001b[39m ridgeGd\u001b[39m.\u001b[39mloss\n\u001b[1;32m    <a href='vscode-notebook-cell:/home/brage/FYS-STK3155/Projects/weekley_exsercises/week42/solutionweek41-42.ipynb#X44sZmlsZQ%3D%3D?line=101'>102</a>\u001b[0m                 scoresRidgeJax[i,j] \u001b[39m=\u001b[39m ridgeGdJax\u001b[39m.\u001b[39mloss\n\u001b[0;32m--> <a href='vscode-notebook-cell:/home/brage/FYS-STK3155/Projects/weekley_exsercises/week42/solutionweek41-42.ipynb#X44sZmlsZQ%3D%3D?line=103'>104</a>\u001b[0m run()\n",
      "\u001b[1;32m/home/brage/FYS-STK3155/Projects/weekley_exsercises/week42/solutionweek41-42.ipynb Cell 33\u001b[0m line \u001b[0;36m6\n\u001b[1;32m     <a href='vscode-notebook-cell:/home/brage/FYS-STK3155/Projects/weekley_exsercises/week42/solutionweek41-42.ipynb#X44sZmlsZQ%3D%3D?line=62'>63</a>\u001b[0m ridgeGdJax \u001b[39m=\u001b[39m JaxLinRegRidge(eta\u001b[39m=\u001b[39meta, epochs\u001b[39m=\u001b[39mepochs, tol\u001b[39m=\u001b[39mtol, alpha\u001b[39m=\u001b[39malpha, gamma\u001b[39m=\u001b[39mgamma)\n\u001b[1;32m     <a href='vscode-notebook-cell:/home/brage/FYS-STK3155/Projects/weekley_exsercises/week42/solutionweek41-42.ipynb#X44sZmlsZQ%3D%3D?line=63'>64</a>\u001b[0m ridgeGd\u001b[39m.\u001b[39mfit(X_train, y_train, X_test, y_test)\n\u001b[0;32m---> <a href='vscode-notebook-cell:/home/brage/FYS-STK3155/Projects/weekley_exsercises/week42/solutionweek41-42.ipynb#X44sZmlsZQ%3D%3D?line=64'>65</a>\u001b[0m ridgeGdJax\u001b[39m.\u001b[39;49mfit(X_train, y_train, X_test, y_test)\n\u001b[1;32m     <a href='vscode-notebook-cell:/home/brage/FYS-STK3155/Projects/weekley_exsercises/week42/solutionweek41-42.ipynb#X44sZmlsZQ%3D%3D?line=65'>66</a>\u001b[0m scoresRidge[i,j] \u001b[39m=\u001b[39m ridgeGd\u001b[39m.\u001b[39mloss\n\u001b[1;32m     <a href='vscode-notebook-cell:/home/brage/FYS-STK3155/Projects/weekley_exsercises/week42/solutionweek41-42.ipynb#X44sZmlsZQ%3D%3D?line=66'>67</a>\u001b[0m scoresRidgeJax[i,j] \u001b[39m=\u001b[39m ridgeGdJax\u001b[39m.\u001b[39mloss\n",
      "\u001b[1;32m/home/brage/FYS-STK3155/Projects/weekley_exsercises/week42/solutionweek41-42.ipynb Cell 33\u001b[0m line \u001b[0;36m3\n\u001b[1;32m     <a href='vscode-notebook-cell:/home/brage/FYS-STK3155/Projects/weekley_exsercises/week42/solutionweek41-42.ipynb#X44sZmlsZQ%3D%3D?line=33'>34</a>\u001b[0m \u001b[39mfor\u001b[39;00m e \u001b[39min\u001b[39;00m \u001b[39mrange\u001b[39m(\u001b[39mself\u001b[39m\u001b[39m.\u001b[39mepochs):\n\u001b[1;32m     <a href='vscode-notebook-cell:/home/brage/FYS-STK3155/Projects/weekley_exsercises/week42/solutionweek41-42.ipynb#X44sZmlsZQ%3D%3D?line=34'>35</a>\u001b[0m     random_index \u001b[39m=\u001b[39m batch_size\u001b[39m*\u001b[39mnp\u001b[39m.\u001b[39mrandom\u001b[39m.\u001b[39mrandint(batches)\n\u001b[0;32m---> <a href='vscode-notebook-cell:/home/brage/FYS-STK3155/Projects/weekley_exsercises/week42/solutionweek41-42.ipynb#X44sZmlsZQ%3D%3D?line=35'>36</a>\u001b[0m     \u001b[39mself\u001b[39;49m\u001b[39m.\u001b[39;49mlearn( X_train[random_index:random_index\u001b[39m+\u001b[39;49mbatch_size],\n\u001b[1;32m     <a href='vscode-notebook-cell:/home/brage/FYS-STK3155/Projects/weekley_exsercises/week42/solutionweek41-42.ipynb#X44sZmlsZQ%3D%3D?line=36'>37</a>\u001b[0m                 t_train[random_index:random_index\u001b[39m+\u001b[39;49mbatch_size], N\n\u001b[1;32m     <a href='vscode-notebook-cell:/home/brage/FYS-STK3155/Projects/weekley_exsercises/week42/solutionweek41-42.ipynb#X44sZmlsZQ%3D%3D?line=37'>38</a>\u001b[0m     ) \n\u001b[1;32m     <a href='vscode-notebook-cell:/home/brage/FYS-STK3155/Projects/weekley_exsercises/week42/solutionweek41-42.ipynb#X44sZmlsZQ%3D%3D?line=38'>39</a>\u001b[0m     \u001b[39mself\u001b[39m\u001b[39m.\u001b[39mloss[e] \u001b[39m=\u001b[39m MSE(\u001b[39mself\u001b[39m\u001b[39m.\u001b[39mweights, X_val, t_val)\n\u001b[1;32m     <a href='vscode-notebook-cell:/home/brage/FYS-STK3155/Projects/weekley_exsercises/week42/solutionweek41-42.ipynb#X44sZmlsZQ%3D%3D?line=39'>40</a>\u001b[0m     \u001b[39mif\u001b[39;00m e \u001b[39m>\u001b[39m \u001b[39m0\u001b[39m \u001b[39mand\u001b[39;00m np\u001b[39m.\u001b[39mabs(\u001b[39mself\u001b[39m\u001b[39m.\u001b[39mloss[e] \u001b[39m-\u001b[39m \u001b[39mself\u001b[39m\u001b[39m.\u001b[39mloss[e\u001b[39m-\u001b[39m\u001b[39m1\u001b[39m]) \u001b[39m<\u001b[39m \u001b[39mself\u001b[39m\u001b[39m.\u001b[39mtol:\n",
      "\u001b[1;32m/home/brage/FYS-STK3155/Projects/weekley_exsercises/week42/solutionweek41-42.ipynb Cell 33\u001b[0m line \u001b[0;36m1\n\u001b[1;32m      <a href='vscode-notebook-cell:/home/brage/FYS-STK3155/Projects/weekley_exsercises/week42/solutionweek41-42.ipynb#X44sZmlsZQ%3D%3D?line=8'>9</a>\u001b[0m \u001b[39mdef\u001b[39;00m \u001b[39mlearn\u001b[39m(\u001b[39mself\u001b[39m, X, t, N):\n\u001b[0;32m---> <a href='vscode-notebook-cell:/home/brage/FYS-STK3155/Projects/weekley_exsercises/week42/solutionweek41-42.ipynb#X44sZmlsZQ%3D%3D?line=9'>10</a>\u001b[0m     gradient \u001b[39m=\u001b[39m grad(MSE_Ridge)(\u001b[39mself\u001b[39;49m\u001b[39m.\u001b[39;49mweights, X, t, \u001b[39mself\u001b[39;49m\u001b[39m.\u001b[39;49malpha)\n\u001b[1;32m     <a href='vscode-notebook-cell:/home/brage/FYS-STK3155/Projects/weekley_exsercises/week42/solutionweek41-42.ipynb#X44sZmlsZQ%3D%3D?line=10'>11</a>\u001b[0m     \u001b[39mself\u001b[39m\u001b[39m.\u001b[39mchange \u001b[39m=\u001b[39m \u001b[39mself\u001b[39m\u001b[39m.\u001b[39meta\u001b[39m*\u001b[39mgradient \u001b[39m+\u001b[39m \u001b[39mself\u001b[39m\u001b[39m.\u001b[39mgamma \u001b[39m*\u001b[39m \u001b[39mself\u001b[39m\u001b[39m.\u001b[39mchange\n\u001b[1;32m     <a href='vscode-notebook-cell:/home/brage/FYS-STK3155/Projects/weekley_exsercises/week42/solutionweek41-42.ipynb#X44sZmlsZQ%3D%3D?line=11'>12</a>\u001b[0m     \u001b[39mself\u001b[39m\u001b[39m.\u001b[39mweights \u001b[39m-\u001b[39m\u001b[39m=\u001b[39m \u001b[39mself\u001b[39m\u001b[39m.\u001b[39mchange\n",
      "    \u001b[0;31m[... skipping hidden 1 frame]\u001b[0m\n",
      "File \u001b[0;32m~/anaconda3/envs/ML/lib/python3.10/site-packages/jax/_src/api.py:656\u001b[0m, in \u001b[0;36mgrad.<locals>.grad_f\u001b[0;34m(*args, **kwargs)\u001b[0m\n\u001b[1;32m    653\u001b[0m \u001b[39m@wraps\u001b[39m(fun, docstr\u001b[39m=\u001b[39mdocstr, argnums\u001b[39m=\u001b[39margnums)\n\u001b[1;32m    654\u001b[0m \u001b[39m@api_boundary\u001b[39m\n\u001b[1;32m    655\u001b[0m \u001b[39mdef\u001b[39;00m \u001b[39mgrad_f\u001b[39m(\u001b[39m*\u001b[39margs, \u001b[39m*\u001b[39m\u001b[39m*\u001b[39mkwargs):\n\u001b[0;32m--> 656\u001b[0m   _, g \u001b[39m=\u001b[39m value_and_grad_f(\u001b[39m*\u001b[39;49margs, \u001b[39m*\u001b[39;49m\u001b[39m*\u001b[39;49mkwargs)\n\u001b[1;32m    657\u001b[0m   \u001b[39mreturn\u001b[39;00m g\n",
      "    \u001b[0;31m[... skipping hidden 1 frame]\u001b[0m\n",
      "File \u001b[0;32m~/anaconda3/envs/ML/lib/python3.10/site-packages/jax/_src/api.py:732\u001b[0m, in \u001b[0;36mvalue_and_grad.<locals>.value_and_grad_f\u001b[0;34m(*args, **kwargs)\u001b[0m\n\u001b[1;32m    730\u001b[0m   _check_input_dtype_grad(holomorphic, allow_int, leaf)\n\u001b[1;32m    731\u001b[0m \u001b[39mif\u001b[39;00m \u001b[39mnot\u001b[39;00m has_aux:\n\u001b[0;32m--> 732\u001b[0m   ans, vjp_py \u001b[39m=\u001b[39m _vjp(f_partial, \u001b[39m*\u001b[39;49mdyn_args, reduce_axes\u001b[39m=\u001b[39;49mreduce_axes)\n\u001b[1;32m    733\u001b[0m \u001b[39melse\u001b[39;00m:\n\u001b[1;32m    734\u001b[0m   ans, vjp_py, aux \u001b[39m=\u001b[39m _vjp(\n\u001b[1;32m    735\u001b[0m       f_partial, \u001b[39m*\u001b[39mdyn_args, has_aux\u001b[39m=\u001b[39m\u001b[39mTrue\u001b[39;00m, reduce_axes\u001b[39m=\u001b[39mreduce_axes)\n",
      "File \u001b[0;32m~/anaconda3/envs/ML/lib/python3.10/site-packages/jax/_src/api.py:2238\u001b[0m, in \u001b[0;36m_vjp\u001b[0;34m(fun, has_aux, reduce_axes, *primals)\u001b[0m\n\u001b[1;32m   2236\u001b[0m \u001b[39mif\u001b[39;00m \u001b[39mnot\u001b[39;00m has_aux:\n\u001b[1;32m   2237\u001b[0m   flat_fun, out_tree \u001b[39m=\u001b[39m flatten_fun_nokwargs(fun, in_tree)\n\u001b[0;32m-> 2238\u001b[0m   out_primal, out_vjp \u001b[39m=\u001b[39m ad\u001b[39m.\u001b[39;49mvjp(\n\u001b[1;32m   2239\u001b[0m       flat_fun, primals_flat, reduce_axes\u001b[39m=\u001b[39;49mreduce_axes)\n\u001b[1;32m   2240\u001b[0m   out_tree \u001b[39m=\u001b[39m out_tree()\n\u001b[1;32m   2241\u001b[0m \u001b[39melse\u001b[39;00m:\n",
      "File \u001b[0;32m~/anaconda3/envs/ML/lib/python3.10/site-packages/jax/_src/interpreters/ad.py:140\u001b[0m, in \u001b[0;36mvjp\u001b[0;34m(traceable, primals, has_aux, reduce_axes)\u001b[0m\n\u001b[1;32m    138\u001b[0m \u001b[39mdef\u001b[39;00m \u001b[39mvjp\u001b[39m(traceable, primals, has_aux\u001b[39m=\u001b[39m\u001b[39mFalse\u001b[39;00m, reduce_axes\u001b[39m=\u001b[39m()):\n\u001b[1;32m    139\u001b[0m   \u001b[39mif\u001b[39;00m \u001b[39mnot\u001b[39;00m has_aux:\n\u001b[0;32m--> 140\u001b[0m     out_primals, pvals, jaxpr, consts \u001b[39m=\u001b[39m linearize(traceable, \u001b[39m*\u001b[39;49mprimals)\n\u001b[1;32m    141\u001b[0m   \u001b[39melse\u001b[39;00m:\n\u001b[1;32m    142\u001b[0m     out_primals, pvals, jaxpr, consts, aux \u001b[39m=\u001b[39m linearize(traceable, \u001b[39m*\u001b[39mprimals, has_aux\u001b[39m=\u001b[39m\u001b[39mTrue\u001b[39;00m)\n",
      "File \u001b[0;32m~/anaconda3/envs/ML/lib/python3.10/site-packages/jax/_src/interpreters/ad.py:129\u001b[0m, in \u001b[0;36mlinearize\u001b[0;34m(traceable, *primals, **kwargs)\u001b[0m\n\u001b[1;32m    127\u001b[0m _, in_tree \u001b[39m=\u001b[39m tree_flatten(((primals, primals), {}))\n\u001b[1;32m    128\u001b[0m jvpfun_flat, out_tree \u001b[39m=\u001b[39m flatten_fun(jvpfun, in_tree)\n\u001b[0;32m--> 129\u001b[0m jaxpr, out_pvals, consts \u001b[39m=\u001b[39m pe\u001b[39m.\u001b[39;49mtrace_to_jaxpr_nounits(jvpfun_flat, in_pvals)\n\u001b[1;32m    130\u001b[0m out_primals_pvals, out_tangents_pvals \u001b[39m=\u001b[39m tree_unflatten(out_tree(), out_pvals)\n\u001b[1;32m    131\u001b[0m \u001b[39massert\u001b[39;00m \u001b[39mall\u001b[39m(out_primal_pval\u001b[39m.\u001b[39mis_known() \u001b[39mfor\u001b[39;00m out_primal_pval \u001b[39min\u001b[39;00m out_primals_pvals)\n",
      "File \u001b[0;32m~/anaconda3/envs/ML/lib/python3.10/site-packages/jax/_src/profiler.py:340\u001b[0m, in \u001b[0;36mannotate_function.<locals>.wrapper\u001b[0;34m(*args, **kwargs)\u001b[0m\n\u001b[1;32m    337\u001b[0m \u001b[39m@wraps\u001b[39m(func)\n\u001b[1;32m    338\u001b[0m \u001b[39mdef\u001b[39;00m \u001b[39mwrapper\u001b[39m(\u001b[39m*\u001b[39margs, \u001b[39m*\u001b[39m\u001b[39m*\u001b[39mkwargs):\n\u001b[1;32m    339\u001b[0m   \u001b[39mwith\u001b[39;00m TraceAnnotation(name, \u001b[39m*\u001b[39m\u001b[39m*\u001b[39mdecorator_kwargs):\n\u001b[0;32m--> 340\u001b[0m     \u001b[39mreturn\u001b[39;00m func(\u001b[39m*\u001b[39;49margs, \u001b[39m*\u001b[39;49m\u001b[39m*\u001b[39;49mkwargs)\n\u001b[1;32m    341\u001b[0m   \u001b[39mreturn\u001b[39;00m wrapper\n",
      "File \u001b[0;32m~/anaconda3/envs/ML/lib/python3.10/site-packages/jax/_src/interpreters/partial_eval.py:777\u001b[0m, in \u001b[0;36mtrace_to_jaxpr_nounits\u001b[0;34m(fun, pvals, instantiate)\u001b[0m\n\u001b[1;32m    775\u001b[0m \u001b[39mwith\u001b[39;00m core\u001b[39m.\u001b[39mnew_main(JaxprTrace, name_stack\u001b[39m=\u001b[39mcurrent_name_stack) \u001b[39mas\u001b[39;00m main:\n\u001b[1;32m    776\u001b[0m   fun \u001b[39m=\u001b[39m trace_to_subjaxpr_nounits(fun, main, instantiate)\n\u001b[0;32m--> 777\u001b[0m   jaxpr, (out_pvals, consts, env) \u001b[39m=\u001b[39m fun\u001b[39m.\u001b[39;49mcall_wrapped(pvals)\n\u001b[1;32m    778\u001b[0m   \u001b[39massert\u001b[39;00m \u001b[39mnot\u001b[39;00m env\n\u001b[1;32m    779\u001b[0m   \u001b[39mdel\u001b[39;00m main, fun, env\n",
      "File \u001b[0;32m~/anaconda3/envs/ML/lib/python3.10/site-packages/jax/_src/linear_util.py:191\u001b[0m, in \u001b[0;36mWrappedFun.call_wrapped\u001b[0;34m(self, *args, **kwargs)\u001b[0m\n\u001b[1;32m    188\u001b[0m gen \u001b[39m=\u001b[39m gen_static_args \u001b[39m=\u001b[39m out_store \u001b[39m=\u001b[39m \u001b[39mNone\u001b[39;00m\n\u001b[1;32m    190\u001b[0m \u001b[39mtry\u001b[39;00m:\n\u001b[0;32m--> 191\u001b[0m   ans \u001b[39m=\u001b[39m \u001b[39mself\u001b[39;49m\u001b[39m.\u001b[39;49mf(\u001b[39m*\u001b[39;49margs, \u001b[39m*\u001b[39;49m\u001b[39m*\u001b[39;49m\u001b[39mdict\u001b[39;49m(\u001b[39mself\u001b[39;49m\u001b[39m.\u001b[39;49mparams, \u001b[39m*\u001b[39;49m\u001b[39m*\u001b[39;49mkwargs))\n\u001b[1;32m    192\u001b[0m \u001b[39mexcept\u001b[39;00m:\n\u001b[1;32m    193\u001b[0m   \u001b[39m# Some transformations yield from inside context managers, so we have to\u001b[39;00m\n\u001b[1;32m    194\u001b[0m   \u001b[39m# interrupt them before reraising the exception. Otherwise they will only\u001b[39;00m\n\u001b[1;32m    195\u001b[0m   \u001b[39m# get garbage-collected at some later time, running their cleanup tasks\u001b[39;00m\n\u001b[1;32m    196\u001b[0m   \u001b[39m# only after this exception is handled, which can corrupt the global\u001b[39;00m\n\u001b[1;32m    197\u001b[0m   \u001b[39m# state.\u001b[39;00m\n\u001b[1;32m    198\u001b[0m   \u001b[39mwhile\u001b[39;00m stack:\n",
      "\u001b[1;32m/home/brage/FYS-STK3155/Projects/weekley_exsercises/week42/solutionweek41-42.ipynb Cell 33\u001b[0m line \u001b[0;36m6\n\u001b[1;32m      <a href='vscode-notebook-cell:/home/brage/FYS-STK3155/Projects/weekley_exsercises/week42/solutionweek41-42.ipynb#X44sZmlsZQ%3D%3D?line=4'>5</a>\u001b[0m \u001b[39mdef\u001b[39;00m \u001b[39mMSE_Ridge\u001b[39m(w, X, y, alpha) \u001b[39m-\u001b[39m\u001b[39m>\u001b[39m jnp\u001b[39m.\u001b[39mfloat32:\n\u001b[0;32m----> <a href='vscode-notebook-cell:/home/brage/FYS-STK3155/Projects/weekley_exsercises/week42/solutionweek41-42.ipynb#X44sZmlsZQ%3D%3D?line=5'>6</a>\u001b[0m     y_pred \u001b[39m=\u001b[39m X \u001b[39m@\u001b[39;49m w\n\u001b[1;32m      <a href='vscode-notebook-cell:/home/brage/FYS-STK3155/Projects/weekley_exsercises/week42/solutionweek41-42.ipynb#X44sZmlsZQ%3D%3D?line=6'>7</a>\u001b[0m     \u001b[39mreturn\u001b[39;00m jnp\u001b[39m.\u001b[39mmean((y_pred \u001b[39m-\u001b[39m y)\u001b[39m*\u001b[39m\u001b[39m*\u001b[39m\u001b[39m2\u001b[39m) \u001b[39m+\u001b[39m alpha\u001b[39m*\u001b[39mnp\u001b[39m.\u001b[39msum(w\u001b[39m*\u001b[39m\u001b[39m*\u001b[39m\u001b[39m2\u001b[39m)\n",
      "File \u001b[0;32m~/anaconda3/envs/ML/lib/python3.10/site-packages/jax/_src/numpy/array_methods.py:256\u001b[0m, in \u001b[0;36m_defer_to_unrecognized_arg.<locals>.deferring_binary_op\u001b[0;34m(self, other)\u001b[0m\n\u001b[1;32m    254\u001b[0m args \u001b[39m=\u001b[39m (other, \u001b[39mself\u001b[39m) \u001b[39mif\u001b[39;00m swap \u001b[39melse\u001b[39;00m (\u001b[39mself\u001b[39m, other)\n\u001b[1;32m    255\u001b[0m \u001b[39mif\u001b[39;00m \u001b[39misinstance\u001b[39m(other, _accepted_binop_types):\n\u001b[0;32m--> 256\u001b[0m   \u001b[39mreturn\u001b[39;00m binary_op(\u001b[39m*\u001b[39;49margs)\n\u001b[1;32m    257\u001b[0m \u001b[39m# Note: don't use isinstance here, because we don't want to raise for\u001b[39;00m\n\u001b[1;32m    258\u001b[0m \u001b[39m# subclasses, e.g. NamedTuple objects that may override operators.\u001b[39;00m\n\u001b[1;32m    259\u001b[0m \u001b[39mif\u001b[39;00m \u001b[39mtype\u001b[39m(other) \u001b[39min\u001b[39;00m _rejected_binop_types:\n",
      "    \u001b[0;31m[... skipping hidden 1 frame]\u001b[0m\n",
      "File \u001b[0;32m~/anaconda3/envs/ML/lib/python3.10/site-packages/jax/_src/pjit.py:259\u001b[0m, in \u001b[0;36m_cpp_pjit.<locals>.cache_miss\u001b[0;34m(*args, **kwargs)\u001b[0m\n\u001b[1;32m    256\u001b[0m outs, out_flat, out_tree, args_flat, jaxpr \u001b[39m=\u001b[39m _python_pjit_helper(\n\u001b[1;32m    257\u001b[0m     fun, infer_params_fn, \u001b[39m*\u001b[39margs, \u001b[39m*\u001b[39m\u001b[39m*\u001b[39mkwargs)\n\u001b[1;32m    258\u001b[0m executable \u001b[39m=\u001b[39m _read_most_recent_pjit_call_executable(jaxpr)\n\u001b[0;32m--> 259\u001b[0m fastpath_data \u001b[39m=\u001b[39m _get_fastpath_data(executable, out_tree, args_flat, out_flat)\n\u001b[1;32m    260\u001b[0m \u001b[39mreturn\u001b[39;00m outs, fastpath_data\n",
      "File \u001b[0;32m~/anaconda3/envs/ML/lib/python3.10/site-packages/jax/_src/pjit.py:206\u001b[0m, in \u001b[0;36m_get_fastpath_data\u001b[0;34m(executable, out_tree, args_flat, out_flat)\u001b[0m\n\u001b[1;32m    195\u001b[0m \u001b[39mdef\u001b[39;00m \u001b[39m_get_fastpath_data\u001b[39m(executable, out_tree, args_flat, out_flat):\n\u001b[1;32m    196\u001b[0m   out_flat, out_tree \u001b[39m=\u001b[39m pxla\u001b[39m.\u001b[39mreflatten_outputs_for_dispatch(out_tree, out_flat)\n\u001b[1;32m    198\u001b[0m   use_fastpath \u001b[39m=\u001b[39m (\n\u001b[1;32m    199\u001b[0m       executable \u001b[39mis\u001b[39;00m \u001b[39mnot\u001b[39;00m \u001b[39mNone\u001b[39;00m \u001b[39mand\u001b[39;00m\n\u001b[1;32m    200\u001b[0m       \u001b[39misinstance\u001b[39m(executable, pxla\u001b[39m.\u001b[39mMeshExecutable) \u001b[39mand\u001b[39;00m\n\u001b[1;32m    201\u001b[0m       \u001b[39misinstance\u001b[39m(executable\u001b[39m.\u001b[39munsafe_call, pxla\u001b[39m.\u001b[39mExecuteReplicated) \u001b[39mand\u001b[39;00m\n\u001b[1;32m    202\u001b[0m       \u001b[39m# No effects in computation\u001b[39;00m\n\u001b[1;32m    203\u001b[0m       \u001b[39mnot\u001b[39;00m executable\u001b[39m.\u001b[39munsafe_call\u001b[39m.\u001b[39mordered_effects \u001b[39mand\u001b[39;00m\n\u001b[1;32m    204\u001b[0m       \u001b[39mnot\u001b[39;00m executable\u001b[39m.\u001b[39munsafe_call\u001b[39m.\u001b[39mhas_unordered_effects \u001b[39mand\u001b[39;00m\n\u001b[1;32m    205\u001b[0m       \u001b[39mnot\u001b[39;00m executable\u001b[39m.\u001b[39munsafe_call\u001b[39m.\u001b[39mhas_host_callbacks \u001b[39mand\u001b[39;00m\n\u001b[0;32m--> 206\u001b[0m       \u001b[39mall\u001b[39m(\u001b[39misinstance\u001b[39m(x, xc\u001b[39m.\u001b[39mArrayImpl) \u001b[39mfor\u001b[39;00m x \u001b[39min\u001b[39;00m out_flat)\n\u001b[1;32m    207\u001b[0m   )\n\u001b[1;32m    209\u001b[0m   \u001b[39mif\u001b[39;00m use_fastpath:\n\u001b[1;32m    210\u001b[0m     out_avals \u001b[39m=\u001b[39m [o\u001b[39m.\u001b[39maval \u001b[39mfor\u001b[39;00m o \u001b[39min\u001b[39;00m out_flat]\n",
      "\u001b[0;31mKeyboardInterrupt\u001b[0m: "
     ]
    }
   ],
   "source": [
    "etas = [ 0.0001, 0.001, 0.01, 0.1, 0.25]\n",
    "epochs = 1000\n",
    "tol = 0.0001\n",
    "gammas = [0.0, 0.1, 0.5, 0.9]\n",
    "alphas = [0.0001, 0.001, 0.01, 0.1, 1.0]\n",
    "epsilon = 1e-8\n",
    "decay = 0.9\n",
    "beta1 = 0.9\n",
    "beta2 = 0.999\n",
    "\n",
    "\n",
    "scoresSdg = np.zeros((len(etas), len(gammas),epochs))\n",
    "scoresAdagrad = np.zeros((len(etas), len(gammas),epochs))\n",
    "scoresRmsprop = np.zeros((len(etas), len(gammas),epochs))\n",
    "scoresAdam = np.zeros((len(etas), len(gammas),epochs))\n",
    "scoresSdgJax = np.zeros((len(etas), len(gammas),epochs))\n",
    "scoresAdagradJax = np.zeros((len(etas), len(gammas),epochs))\n",
    "scoresRmspropJax = np.zeros((len(etas), len(gammas),epochs))\n",
    "scoresAdamJax = np.zeros((len(etas), len(gammas),epochs))\n",
    "scoresRidge = np.zeros((len(etas), len(gammas),epochs))\n",
    "scoresRidgeJax = np.zeros((len(etas), len(gammas),epochs))\n",
    "scoresHessianGd = np.zeros((len(etas),epochs))\n",
    "\n",
    "analytical = AnalyticalLinReg()\n",
    "analytical.fit(X_train, y_train)\n",
    "print(\"Analytical solution: \", MSE(analytical.weights, X_test,  y_test))\n",
    "\n",
    "def runGD():\n",
    "    for i, eta in enumerate(etas):\n",
    "        for j, gamma in enumerate(gammas):\n",
    "            sdg = SGD(eta=eta, epochs=epochs, tol=tol, gamma=gamma)\n",
    "            sdgJax = JaxLinReg(eta=eta, epochs=epochs, tol=tol, gamma=gamma)\n",
    "            sdg.fit(X_train, y_train, X_test, y_test)\n",
    "            sdgJax.fit(X_train, y_train, X_test, y_test)\n",
    "            scoresSdg[i,j] = sdg.loss\n",
    "            scoresSdgJax[i,j] = sdgJax.loss\n",
    "            for k, alpha in enumerate(alphas):\n",
    "                ridgeGd = RidgeGD(eta=eta, epochs=epochs, tol=tol, alpha=alpha, gamma=gamma)\n",
    "                ridgeGdJax = JaxLinRegRidge(eta=eta, epochs=epochs, tol=tol, alpha=alpha, gamma=gamma)\n",
    "                ridgeGd.fit(X_train, y_train, X_test, y_test)\n",
    "                ridgeGdJax.fit(X_train, y_train, X_test, y_test)\n",
    "                scoresRidge[i,j] = ridgeGd.loss\n",
    "                scoresRidgeJax[i,j] = ridgeGdJax.loss\n",
    "\n",
    "\n",
    "\n",
    "def runSTG(batch_size=5):\n",
    "    for i, eta in enumerate(etas):\n",
    "        hessianGd = HessianInvGD(eta=eta, epochs=epochs, tol=tol)\n",
    "        hessianGdJax = JaxLinRegHessianInv(eta=eta, epochs=epochs, tol=tol, epsilon=epsilon)\n",
    "        hessianGd.fit(X_train, y_train, X_test, y_test, batch_size=batch_size)\n",
    "        hessianGdJax.fit(X_train, y_train, X_test, y_test, batch_size=batch_size)\n",
    "        scoresHessianGd[i] = hessianGd.loss\n",
    "        for j, gamma in enumerate(gammas):\n",
    "            sdg = SGD(eta=eta, epochs=epochs, tol=tol, gamma=gamma)\n",
    "            sdgJax = JaxLinReg(eta=eta, epochs=epochs, tol=tol, gamma=gamma)\n",
    "            adagrad = Adagrad(eta=eta, epochs=epochs, tol=tol, gamma=gamma)\n",
    "            adagradJax = JaxLinRegHessianInv(eta=eta, epochs=epochs, tol=tol, epsilon=epsilon, gamma=gamma)\n",
    "            rmsprop = RMSprop(eta=eta, epochs=epochs, tol=tol, gamma=gamma)\n",
    "            rmspropJax = JaxLinRegRMSprop(eta=eta, epochs=epochs, tol=tol, epsilon=epsilon, gamma=gamma)\n",
    "            adam = Adam(eta=eta, epochs=epochs, tol=tol, gamma=gamma)\n",
    "            adamJax = JaxLinRegAdam(eta=eta, epochs=epochs, tol=tol, epsilon=epsilon, gamma=gamma)\n",
    "            sdg.fit(X_train, y_train, X_test, y_test, batch_size=batch_size)\n",
    "            sdgJax.fit(X_train, y_train, X_test, y_test, batch_size=batch_size)\n",
    "            adagrad.fit(X_train, y_train, X_test, y_test, batch_size=batch_size)\n",
    "            adagradJax.fit(X_train, y_train, X_test, y_test, batch_size=batch_size)\n",
    "            rmsprop.fit(X_train, y_train, X_test, y_test, batch_size=batch_size)\n",
    "            rmspropJax.fit(X_train, y_train, X_test, y_test, batch_size=batch_size)\n",
    "            adam.fit(X_train, y_train, X_test, y_test, batch_size=batch_size)\n",
    "            adamJax.fit(X_train, y_train, X_test, y_test, batch_size=batch_size)\n",
    "            scoresSdg[i,j] = sdg.loss\n",
    "            scoresSdgJax[i,j] = sdgJax.loss\n",
    "            scoresAdagrad[i,j] = adagrad.loss\n",
    "            scoresAdagradJax[i,j] = adagradJax.loss\n",
    "            scoresRmsprop[i,j] = rmsprop.loss\n",
    "            scoresRmspropJax[i,j] = rmspropJax.loss\n",
    "            scoresAdam[i,j] = adam.loss\n",
    "            scoresAdamJax[i,j] = adamJax.loss\n",
    "            for k, alpha in enumerate(alphas):\n",
    "                ridgeGd = RidgeGD(eta=eta, epochs=epochs, tol=tol, alpha=alpha, gamma=gamma)\n",
    "                ridgeGdJax = JaxLinRegRidge(eta=eta, epochs=epochs, tol=tol, alpha=alpha, gamma=gamma)\n",
    "                ridgeGd.fit(X_train, y_train, X_test, y_test, batch_size=batch_size)\n",
    "                ridgeGdJax.fit(X_train, y_train, X_test, y_test, batch_size=batch_size)\n",
    "                scoresRidge[i,j] = ridgeGd.loss\n",
    "                scoresRidgeJax[i,j] = ridgeGdJax.loss\n",
    "\n",
    "\n",
    "\n",
    "\n",
    "runGD()\n",
    "runSTG()"
   ]
  },
  {
   "cell_type": "code",
   "execution_count": null,
   "metadata": {},
   "outputs": [
    {
     "data": {
      "image/png": "[encoded data removed]",
      "text/plain": [
       "<Figure size 640x480 with 2 Axes>"
      ]
     },
     "metadata": {},
     "output_type": "display_data"
    }
   ],
   "source": [
    "from matplotlib.lines import Line2D\n",
    "import seaborn as sns\n",
    "\n",
    "fake_scores = np.zeros((len(etas), len(gammas),epochs))\n",
    "fake_scores[:,:,:] = 0.5\n",
    "fake_best = np.mean(fake_scores, axis=2)\n",
    "\n",
    "ax = sns.heatmap(fake_best, annot=True, fmt=\".3f\", cmap=\"viridis\")\n",
    "ax.set_title(\"Best MSE for each combination of learning rate and momentum\")\n",
    "ax.set_xlabel(\"Momentum\")\n",
    "ax.set_xticklabels(gammas)\n",
    "ax.set_ylabel(\"Learning rate\")\n",
    "ax.set_yticklabels(etas)\n",
    "plt.show()\n",
    "\n",
    "# colours = [\"m\",\"k\",\"b\",\"r\"]\n",
    "# plots,ax = plt.subplots(int(len(etas)//2+len(etas)%2),2,constrained_layout=True)\n",
    "# plots.suptitle(\"MSE over iterations\")\n",
    "# lines =[]\n",
    "# for i in range(len(gammas)):\n",
    "#     lines.append(Line2D([0],[0], color = colours[i],lw=1))\n",
    "\n",
    "# for i in range(len(etas)):\n",
    "#     for j in range(len(gammas)):\n",
    "#         ite = np.min(epochs)\n",
    "#         ax[int(i//2),i%2].set_title(\"learning rate: \"+ str(etas[i])+\"    \")\n",
    "#         ax[int(i//2),i%2].plot(np.linspace(0,epochs,100),scoresSdg,color=colours[j])\n",
    "# plots.legend(lines,gammas)\n",
    "# plt.show()"
   ]
  }
 ],
 "metadata": {
  "kernelspec": {
   "display_name": "base",
   "language": "python",
   "name": "python3"
  },
  "language_info": {
   "codemirror_mode": {
    "name": "ipython",
    "version": 3
   },
   "file_extension": ".py",
   "mimetype": "text/x-python",
   "name": "python",
   "nbconvert_exporter": "python",
   "pygments_lexer": "ipython3",
   "version": "3.10.12"
  }
 },
 "nbformat": 4,
 "nbformat_minor": 2
}
