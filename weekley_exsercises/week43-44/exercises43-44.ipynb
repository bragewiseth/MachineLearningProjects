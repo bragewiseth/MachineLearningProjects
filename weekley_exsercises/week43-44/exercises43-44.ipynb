{
 "cells": [
  {
   "cell_type": "markdown",
   "metadata": {},
   "source": [
    "# Solution to exercises week 43-44\n",
    "#### Brage Wiseth, Eirik Jahr, Felix Cameren"
   ]
  },
  {
   "cell_type": "code",
   "execution_count": 310,
   "metadata": {},
   "outputs": [
    {
     "name": "stdout",
     "output_type": "stream",
     "text": [
      "jax backend gpu\n"
     ]
    }
   ],
   "source": [
    "import jax.numpy as np\n",
    "import jax\n",
    "from matplotlib import pyplot as plt\n",
    "from jax.lib import xla_bridge\n",
    "print(\"jax backend {}\".format(xla_bridge.get_backend().platform))\n",
    "\n",
    "key = jax.random.PRNGKey(2024)\n"
   ]
  },
  {
   "cell_type": "code",
   "execution_count": 311,
   "metadata": {},
   "outputs": [
    {
     "data": {
      "image/png": "[encoded data removed]",
      "text/plain": [
       "<Figure size 640x480 with 3 Axes>"
      ]
     },
     "metadata": {},
     "output_type": "display_data"
    }
   ],
   "source": [
    "# we can generate a OR-like , AND-like and XOR-like dataset with float values\n",
    "x = jax.random.uniform(key, shape=(10,2), minval=0, maxval=1)\n",
    "\n",
    "t_or = (x[:,0] >= 0.5) | (x[:,1] < 0.6)\n",
    "t_and = (x[:,0] >= 0.5) & (x[:,1] > 0.5)\n",
    "t_xor = (x[:,0] >= 0.5) ^ (x[:,1] > 0.5)\n",
    "\n",
    "\n",
    "fig, ax = plt.subplots(1, 3)\n",
    "ax[0].scatter(x[:,0],x[:,1], s=10, c=t_or, cmap='winter')\n",
    "ax[0].set_title(\"OR-like\", font='sans')\n",
    "ax[1].scatter(x[:,0],x[:,1], s=10, c=t_and, cmap='winter')\n",
    "ax[1].set_title(\"AND-like\", font='sans')\n",
    "ax[2].scatter(x[:,0],x[:,1], s=10, c=t_xor, cmap='winter')\n",
    "ax[2].set_title(\"XOR-like\", font='sans')\n",
    "fig.tight_layout()\n",
    "plt.show()\n"
   ]
  },
  {
   "cell_type": "code",
   "execution_count": 312,
   "metadata": {},
   "outputs": [],
   "source": [
    "from sklearn.preprocessing import StandardScaler\n",
    "from sklearn.model_selection import train_test_split\n",
    "\n",
    "scaler = StandardScaler() # not using it for now\n",
    "\n",
    "X_train, X_test, t_or_train, t_or_test = train_test_split(x, t_or, test_size=0.2, random_state=1234)\n",
    "# same seed so we only need x_train and x_test from the first split\n",
    "_ , _,   t_and_train , t_and_test = train_test_split(x, t_and, test_size=0.2, random_state=1234)\n",
    "_ , _,   t_xor_train , t_xor_test = train_test_split(x, t_xor, test_size=0.2, random_state=1234)\n",
    "\n",
    "X_train = np.asarray(X_train)\n",
    "X_test = np.asarray(X_test)\n",
    "\n",
    "t_or_train = np.asarray(t_or_train).reshape(-1, 1)\n",
    "t_or_test = np.asarray(t_or_test).reshape(-1, 1)\n",
    "t_and_train = np.asarray(t_and_train).reshape(-1, 1)\n",
    "t_and_test = np.asarray(t_and_test).reshape(-1, 1)\n",
    "t_xor_train = np.asarray(t_xor_train).reshape(-1, 1)\n",
    "t_xor_test = np.asarray(t_xor_test).reshape(-1, 1)\n"
   ]
  },
  {
   "cell_type": "markdown",
   "metadata": {},
   "source": [
    "### ADAMLL is a local library for machine learning algorithms it contains activation functions, cost functions, and optimization algorithms from previous exercises."
   ]
  },
  {
   "cell_type": "code",
   "execution_count": 313,
   "metadata": {},
   "outputs": [],
   "source": [
    "import ADAMLL as ada\n",
    "\n",
    "\n",
    "\n",
    "# sigmoid activation at every layer\n",
    "def forward_propagate(network, inputs):\n",
    "    activations = [inputs] # List to hold all activations, layer by layer\n",
    "    for layer in network:\n",
    "        net_input = np.dot(activations[-1], layer['w']) + layer['b']\n",
    "        activations.append(ada.activations.sigmoid(net_input))\n",
    "    return activations\n",
    "\n",
    "\n",
    "\n",
    "# cross entropy loss with sigmoid\n",
    "# TODO: make a more general backpropagate function\n",
    "def backprop_one_hidden( params, t, activations):\n",
    "    X, a0, a1 = activations\n",
    "    output_error = (a1 - t)\n",
    "    hidden_error =  output_error @ params[1]['w'].T * a0 * (1 - a0) \n",
    "\n",
    "    gw0 = X.T @ hidden_error\n",
    "    gb0 = np.sum(hidden_error, axis=0)\n",
    "    gw1 = a0.T @ output_error\n",
    "    gb1 = np.sum(output_error, axis=0)\n",
    "    gw0, gb0, gw1, gb1 = jax.tree_map(lambda p: p / X.shape[0], (gw0, gb0, gw1, gb1))\n",
    "    return [{'w': gw0, 'b': gb0}, {'w': gw1, 'b': gb1}]\n",
    "\n",
    "\n",
    "\n",
    "def single_layer_gradients(_, t, activations ):\n",
    "    X, y = activations\n",
    "    wgrad = (2/X.shape[0]) * np.dot(X.T , (y - t))\n",
    "    bgrad = 2/X.shape[0] * np.sum(y - t)\n",
    "    return [{'w': wgrad, 'b': bgrad}]"
   ]
  },
  {
   "cell_type": "code",
   "execution_count": 314,
   "metadata": {},
   "outputs": [],
   "source": [
    "\n",
    "\n",
    "\n",
    "\n",
    "loss = ada.CE\n",
    "backwards = backprop_one_hidden\n",
    "forward = forward_propagate\n",
    "\n",
    "\n",
    "\n",
    "\n",
    "class NN():\n",
    "\n",
    "    def __init__(self ,architecture=[[2, 2, 1], [ada.activations.sigmoid , None ]],\n",
    "                eta=0.1, epochs=100, tol=0.001, optimizer='sgd', alpha=0,\n",
    "                 gamma=0, epsilon=0.0001, decay=0.9, beta1=0.9, beta2=0.999,):\n",
    "        self.eta = eta\n",
    "        self.epochs = epochs\n",
    "        self.tol = tol\n",
    "        self.optimizer = optimizer\n",
    "        self.alpha = alpha\n",
    "        self.gamma = gamma\n",
    "        self.epsilon = epsilon\n",
    "        self.decay = decay\n",
    "        self.beta1 = beta1\n",
    "        self.beta2 = beta2\n",
    "        self.architecture = architecture\n",
    "\n",
    "\n",
    "\n",
    "    def init_optimizer(self, params):\n",
    "        match self.optimizer:\n",
    "            case 'sgd':\n",
    "                optimizer = ada.optimizers.create_update_sgd(self.eta, self.gamma)\n",
    "                optimizerState = ada.optimizers.init_SGD_state(params)\n",
    "                return optimizer, optimizerState\n",
    "            case 'rgd':\n",
    "                optimizer = ada.optimizers.create_update_ridge(self.eta, self.gamma, self.alpha)\n",
    "                optimizerState = ada.optimizers.init_ridge_state(params)\n",
    "                return optimizer, optimizerState\n",
    "            case 'adagrad':\n",
    "                optimizer = ada.optimizers.create_update_adagrad(self.eta, self.epsilon, self.gamma)\n",
    "                optimizerState = ada.optimizers.init_adagrad_state(params)\n",
    "                return optimizer, optimizerState\n",
    "            case 'rmsprop':\n",
    "                optimizer = ada.optimizers.create_update_rmsprop(self.eta, self.epsilon, self.decay)\n",
    "                optimizerState = ada.optimizers.init_rmsprop_state(params)\n",
    "                return optimizer, optimizerState\n",
    "            case 'adam':\n",
    "                optimizer = ada.optimizers.create_update_adam(self.eta, self.beta1, self.beta2, self.epsilon)\n",
    "                optimizerState = ada.optimizers.init_adam_state(params)\n",
    "                return optimizer, optimizerState\n",
    "            case _:\n",
    "                raise ValueError(f\"Unknown optimizer {self.optimizer}\")\n",
    "\n",
    "\n",
    "\n",
    "    def fit(self, X, t, X_val, t_val, batch_size=None ):\n",
    "        (N, m) = X_train.shape\n",
    "        if batch_size is None:\n",
    "            batch_size = N\n",
    "        key = jax.random.PRNGKey(1234)\n",
    "        params = ada.init_network_params(self.architecture[0], key)\n",
    "        # forward_propagate = build_forward(self.architecture)   # yet to be implemented\n",
    "        # gradients = build_backprop(self.architecture, loss)    # yet to be implemented\n",
    "        update_params, opt_state = self.init_optimizer(params) \n",
    "        batches = int(N/batch_size)\n",
    "        loss = np.zeros(self.epochs)\n",
    "\n",
    "\n",
    "        @jax.jit # one step of gradient descent jitted to make it zoom\n",
    "        def step(params, opt_state, X, t):\n",
    "            activations = forward(params, X)\n",
    "            grads = backwards(params, t, activations)\n",
    "            params, opt_state = update_params(params, grads, opt_state)\n",
    "            return params, opt_state\n",
    "\n",
    "\n",
    "        for e in range(self.epochs):\n",
    "            for _ in range(batches):\n",
    "\n",
    "                key, subkey = jax.random.split(key)\n",
    "                random_index = batch_size * jax.random.randint(subkey, minval=0, maxval=batches, shape=())\n",
    "                X_batch = X[random_index:random_index+batch_size]\n",
    "                t_batch = t[random_index:random_index+batch_size]\n",
    "\n",
    "                params, opt_state = step(params, opt_state, X_batch, t_batch)\n",
    "\n",
    "                current_loss = ada.CE(forward_propagate(params, X_val)[-1], t_val)\n",
    "\n",
    "                # clip gradients\n",
    "                if not np.isfinite(current_loss).all():\n",
    "                    params = jax.tree_map(lambda p: np.clip(p, -100, 100), params)\n",
    "\n",
    "                loss = loss.at[e].set(current_loss)\n",
    "\n",
    "                # Early stopping condition\n",
    "                if e > 10 and np.abs(loss[e-10] - loss[e]) < self.tol:\n",
    "                    loss = loss.at[e+1:].set(loss[e]) \n",
    "                    break\n",
    "\n",
    "\n",
    "        # ada.print_message(f\"Training stopped after {e} epochs\")\n",
    "        return loss , params\n",
    "\n",
    "\n",
    "\n"
   ]
  },
  {
   "cell_type": "markdown",
   "metadata": {},
   "source": [
    "#### test and compare with jax to verify the derivations, not used in the analysis"
   ]
  },
  {
   "cell_type": "code",
   "execution_count": 315,
   "metadata": {},
   "outputs": [],
   "source": [
    "\n",
    "\n",
    "def sigmoid_derivative(x):\n",
    "    return x * (1.0 - x)\n",
    "\n",
    "\n",
    "\n",
    "def loss_all_args(w0,w1, b0, b1, X, T):\n",
    "    \"\"\"\n",
    "    Loss function\n",
    "    \"\"\"\n",
    "    a0 = ada.activations.sigmoid(X @ w0 + b0)\n",
    "    a1 = ada.activations.sigmoid(a0 @ w1 + b1)\n",
    "    return loss(a1, T)\n",
    "\n",
    "\n",
    "\n",
    "# key, subkey = jax.random.split(key)\n",
    "# params = ada.init_network_params([2,1], subkey)\n",
    "# print(params)\n",
    "# activations = forward_propagate(params, x)\n",
    "# print(activations)\n",
    "# print(t_train)\n",
    "# grads = backprop_one_hidden(params, t_train, forward_propagate(params, X_train))\n",
    "# grads = single_layer_gradients(params, t_train, forward_propagate(params, X_train))\n",
    "\n",
    "# print(grads)\n",
    "# print(\"#####\")\n",
    "# print(jax.grad(loss_all_args,argnums=(0,1,2,3))(params[0]['w'], params[1]['w'], params[0]['b'], params[1]['b'], X_train, t_train))"
   ]
  },
  {
   "cell_type": "markdown",
   "metadata": {},
   "source": [
    "## Running the Nural Network\n",
    "\n",
    "#### No hidden layer"
   ]
  },
  {
   "cell_type": "code",
   "execution_count": 316,
   "metadata": {},
   "outputs": [],
   "source": [
    "sigmoid = ada.activations.sigmoid\n",
    "\n",
    "sgd = NN(architecture=[[2,1],[ sigmoid ]], eta=0.1, epochs=1000, tol=0.001, optimizer='sgd', gamma=0.9)\n",
    "backwards = single_layer_gradients\n",
    "loss_or, params_or = sgd.fit(X_train, t_or_train, X_test, t_or_test, batch_size=4)\n",
    "loss_and, params_and = sgd.fit(X_train, t_and_train, X_test, t_and_test, batch_size=4)\n",
    "loss_xor, params_xor = sgd.fit(X_train, t_xor_train, X_test, t_xor_test, batch_size=4)"
   ]
  },
  {
   "cell_type": "code",
   "execution_count": 317,
   "metadata": {},
   "outputs": [
    {
     "data": {
      "text/plain": [
       "[<matplotlib.lines.Line2D at 0x7fe21c0ecc70>]"
      ]
     },
     "execution_count": 317,
     "metadata": {},
     "output_type": "execute_result"
    },
    {
     "data": {
      "image/png": "[encoded data removed]",
      "text/plain": [
       "<Figure size 640x480 with 1 Axes>"
      ]
     },
     "metadata": {},
     "output_type": "display_data"
    },
    {
     "data": {
      "image/png": "[encoded data removed]",
      "text/plain": [
       "<Figure size 640x480 with 1 Axes>"
      ]
     },
     "metadata": {},
     "output_type": "display_data"
    }
   ],
   "source": [
    "def predict(activations):\n",
    "    return np.round(activations)\n",
    "\n",
    "\n",
    "y_or = forward_propagate(params_or, x)[-1]\n",
    "y_and = forward_propagate(params_and, x)[-1]\n",
    "y_xor = forward_propagate(params_xor, x)[-1]\n",
    "\n",
    "\n",
    "y_or = predict(y_or)\n",
    "y_and = predict(y_and)\n",
    "y_xor = predict(y_xor)\n",
    "\n",
    "\n",
    "fig , ax = plt.subplots(1, 3)\n",
    "ax[0].scatter(x[:,0], x[:,1], s=20, c=y_or, cmap='winter', marker='x')\n",
    "ax[0].set_title(\"OR-like prediction\", font='sans')\n",
    "ax[1].scatter(x[:,0], x[:,1], s=20, c=y_and, cmap='winter', marker='x')\n",
    "ax[1].set_title(\"AND-like prediction\", font='sans')\n",
    "ax[2].scatter(x[:,0], x[:,1], s=20, c=y_xor, cmap='winter', marker='x')\n",
    "ax[2].set_title(\"XOR-like prediction\", font='sans')\n",
    "\n",
    "\n",
    "fig, ax = plt.subplots(1, 3)\n",
    "ax[0].plot(loss_or)\n",
    "ax[0].set_title(\"OR-like loss\", font='sans')\n",
    "ax[1].plot(loss_and)\n",
    "ax[1].set_title(\"AND-like loss\", font='sans')\n",
    "ax[2].plot(loss_xor)\n",
    "ax[2].set_title(\"XOR-like loss\", font='sans')\n",
    "plt.show()"
   ]
  },
  {
   "cell_type": "markdown",
   "metadata": {},
   "source": [
    "### One hidden layer"
   ]
  },
  {
   "cell_type": "code",
   "execution_count": null,
   "metadata": {},
   "outputs": [],
   "source": [
    "sigmoid = ada.activations.sigmoid\n",
    "\n",
    "sgd = NN(architecture=[[2,4, 1],[ sigmoid, sigmoid ]], eta=0.1, epochs=1000, tol=0.001, optimizer='sgd', gamma=0.9)\n",
    "backwards = backprop_one_hidden\n",
    "loss_or, params_or = sgd.fit(X_train, t_or_train, X_test, t_or_test, batch_size=4)\n",
    "loss_and, params_and = sgd.fit(X_train, t_and_train, X_test, t_and_test, batch_size=4)\n",
    "loss_xor, params_xor = sgd.fit(X_train, t_xor_train, X_test, t_xor_test, batch_size=4)"
   ]
  },
  {
   "cell_type": "code",
   "execution_count": null,
   "metadata": {},
   "outputs": [],
   "source": [
    "y_or = forward_propagate(params_or, x)[-1]\n",
    "y_and = forward_propagate(params_and, x)[-1]\n",
    "y_xor = forward_propagate(params_xor, x)[-1]\n",
    "\n",
    "\n",
    "y_or = predict(y_or)\n",
    "y_and = predict(y_and)\n",
    "y_xor = predict(y_xor)\n",
    "\n",
    "\n",
    "fig , ax = plt.subplots(1, 3)\n",
    "ax[0].scatter(x[:,0], x[:,1], s=20, c=y_or, cmap='winter', marker='x')\n",
    "ax[0].set_title(\"OR-like prediction\", font='sans')\n",
    "ax[1].scatter(x[:,0], x[:,1], s=20, c=y_and, cmap='winter', marker='x')\n",
    "ax[1].set_title(\"AND-like prediction\", font='sans')\n",
    "ax[2].scatter(x[:,0], x[:,1], s=20, c=y_xor, cmap='winter', marker='x')\n",
    "ax[2].set_title(\"XOR-like prediction\", font='sans')\n",
    "\n",
    "\n",
    "fig, ax = plt.subplots(1, 3)\n",
    "ax[0].plot(loss_or)\n",
    "ax[0].set_title(\"OR-like loss\", font='sans')\n",
    "ax[1].plot(loss_and)\n",
    "ax[1].set_title(\"AND-like loss\", font='sans')\n",
    "ax[2].plot(loss_xor)\n",
    "ax[2].set_title(\"XOR-like loss\", font='sans')\n",
    "plt.show()"
   ]
  }
 ],
 "metadata": {
  "kernelspec": {
   "display_name": "ML",
   "language": "python",
   "name": "python3"
  },
  "language_info": {
   "codemirror_mode": {
    "name": "ipython",
    "version": 3
   },
   "file_extension": ".py",
   "mimetype": "text/x-python",
   "name": "python",
   "nbconvert_exporter": "python",
   "pygments_lexer": "ipython3",
   "version": "3.10.12"
  }
 },
 "nbformat": 4,
 "nbformat_minor": 4
}
